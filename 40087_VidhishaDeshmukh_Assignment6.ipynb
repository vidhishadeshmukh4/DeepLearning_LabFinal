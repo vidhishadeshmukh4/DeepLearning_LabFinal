{
  "cells": [
    {
      "cell_type": "markdown",
      "source": [
        "# Google Colab Lab Assignment - 6\n",
        "\n",
        "**Course Name:** Deep Learning (MDM)  \n",
        "**Lab Title:** Study of Encoder-Decoder Architectures with Attention Mechanisms\n",
        "\n",
        "**Student Name:** Vidhisha Moreshwar Deshmukh\n",
        "\n",
        "**Student ID:** 202201040087\n",
        "\n",
        "**Date of Submission:** 07/05/2025  \n",
        "\n",
        "**Group Members:**  \n",
        "1) Onkar Katkamwar  \n",
        "2) Prajwal Ganar  \n",
        "3) Vidhisha Deshmukh\n",
        "\n",
        "---\n",
        "\n",
        "### **Objective**\n",
        "\n",
        "To implement and compare different encoder-decoder architectures:\n",
        "- Without Attention (LSTM/GRU-based)\n",
        "- With Attention (Bahdanau/Luong)\n",
        "- With Self-Attention (Transformer)\n"
      ],
      "metadata": {
        "id": "cLYsyLrdhYez"
      }
    },
    {
      "cell_type": "markdown",
      "metadata": {
        "id": "tX6P81Moo0Er"
      },
      "source": [
        "## Theory: Encoder-Decoder Architecture (Without Attention)\n",
        "\n",
        "The encoder-decoder model is a neural network design originally introduced for tasks like **machine translation**, but it's also effective for **text generation**, **summarization**, and **paraphrasing**—as in your program.\n",
        "\n",
        "---\n",
        "\n",
        "###  Overview: What It Does\n",
        "\n",
        "- **Input**: A sentence (sequence of words) in the source language (or format).\n",
        "- **Output**: A new sentence (paraphrase) in the same or different format.\n",
        "\n",
        "The architecture consists of two main parts:\n",
        "\n",
        "---\n",
        "\n",
        "### 1.  Encoder: Compresses Input\n",
        "\n",
        "The **encoder** reads the input sequence (e.g., `[\"How\", \"are\", \"you\"]`) and **compresses** all that information into a single **context vector** (a fixed-size hidden state).\n",
        "\n",
        "\n",
        "---\n",
        "\n",
        "### 2.  Decoder: Generates Output\n",
        "\n",
        "The **decoder** is another LSTM that **generates the output sequence**, word by word, using:\n",
        "- Its **own previous outputs**\n",
        "- The encoder’s final hidden and cell states (context)\n"
      ]
    },
    {
      "cell_type": "code",
      "source": [
        "!pip install rouge-score\n"
      ],
      "metadata": {
        "colab": {
          "base_uri": "https://localhost:8080/"
        },
        "id": "GTmIaxR31DFE",
        "outputId": "4dba83b1-876d-47d6-f2c1-b0b584938bfe"
      },
      "execution_count": null,
      "outputs": [
        {
          "output_type": "stream",
          "name": "stdout",
          "text": [
            "Collecting rouge-score\n",
            "  Downloading rouge_score-0.1.2.tar.gz (17 kB)\n",
            "  Preparing metadata (setup.py) ... \u001b[?25l\u001b[?25hdone\n",
            "Requirement already satisfied: absl-py in /usr/local/lib/python3.11/dist-packages (from rouge-score) (1.4.0)\n",
            "Requirement already satisfied: nltk in /usr/local/lib/python3.11/dist-packages (from rouge-score) (3.9.1)\n",
            "Requirement already satisfied: numpy in /usr/local/lib/python3.11/dist-packages (from rouge-score) (2.0.2)\n",
            "Requirement already satisfied: six>=1.14.0 in /usr/local/lib/python3.11/dist-packages (from rouge-score) (1.17.0)\n",
            "Requirement already satisfied: click in /usr/local/lib/python3.11/dist-packages (from nltk->rouge-score) (8.1.8)\n",
            "Requirement already satisfied: joblib in /usr/local/lib/python3.11/dist-packages (from nltk->rouge-score) (1.4.2)\n",
            "Requirement already satisfied: regex>=2021.8.3 in /usr/local/lib/python3.11/dist-packages (from nltk->rouge-score) (2024.11.6)\n",
            "Requirement already satisfied: tqdm in /usr/local/lib/python3.11/dist-packages (from nltk->rouge-score) (4.67.1)\n",
            "Building wheels for collected packages: rouge-score\n",
            "  Building wheel for rouge-score (setup.py) ... \u001b[?25l\u001b[?25hdone\n",
            "  Created wheel for rouge-score: filename=rouge_score-0.1.2-py3-none-any.whl size=24934 sha256=1d16f5f077ccff8eefea2ae13502a485790907c2e766f04cb5a4cf080af2185b\n",
            "  Stored in directory: /root/.cache/pip/wheels/1e/19/43/8a442dc83660ca25e163e1bd1f89919284ab0d0c1475475148\n",
            "Successfully built rouge-score\n",
            "Installing collected packages: rouge-score\n",
            "Successfully installed rouge-score-0.1.2\n"
          ]
        }
      ]
    },
    {
      "cell_type": "markdown",
      "source": [
        "###**Paraphrase Generator using Encoder-Decoder LSTM (No Attention)**"
      ],
      "metadata": {
        "id": "KqPo6gQE8c5K"
      }
    },
    {
      "cell_type": "code",
      "source": [
        "# Imports\n",
        "import ast\n",
        "import time\n",
        "import numpy as np\n",
        "import pandas as pd\n",
        "import matplotlib.pyplot as plt\n",
        "import tensorflow as tf\n",
        "from sklearn.model_selection import train_test_split\n",
        "from tensorflow.keras.preprocessing.text import Tokenizer\n",
        "from tensorflow.keras.preprocessing.sequence import pad_sequences\n",
        "from nltk.translate.bleu_score import sentence_bleu, SmoothingFunction\n",
        "from nltk.translate.meteor_score import single_meteor_score\n",
        "from rouge_score import rouge_scorer\n",
        "import nltk\n",
        "\n",
        "# 📥 Load dataset\n",
        "df = pd.read_csv(\"/content/sample_data/chatgpt_paraphrases.csv\", engine=\"python\", on_bad_lines=\"skip\")\n",
        "df['paraphrases'] = df['paraphrases'].apply(ast.literal_eval)\n",
        "print(df.shape)"
      ],
      "metadata": {
        "colab": {
          "base_uri": "https://localhost:8080/"
        },
        "id": "KqgM6bck1CWw",
        "outputId": "210ccb0e-507d-4534-a96d-bfbfb0b5fd8c"
      },
      "execution_count": null,
      "outputs": [
        {
          "output_type": "stream",
          "name": "stdout",
          "text": [
            "(51494, 4)\n"
          ]
        }
      ]
    },
    {
      "cell_type": "code",
      "execution_count": null,
      "metadata": {
        "id": "Au3Cq8YqmQpL",
        "colab": {
          "base_uri": "https://localhost:8080/",
          "height": 1000
        },
        "outputId": "d6521ee6-6ce5-4885-bf70-38a39c316bc5"
      },
      "outputs": [
        {
          "output_type": "stream",
          "name": "stdout",
          "text": [
            "257470\n"
          ]
        },
        {
          "output_type": "display_data",
          "data": {
            "text/plain": [
              "\u001b[1mModel: \"functional\"\u001b[0m\n"
            ],
            "text/html": [
              "<pre style=\"white-space:pre;overflow-x:auto;line-height:normal;font-family:Menlo,'DejaVu Sans Mono',consolas,'Courier New',monospace\"><span style=\"font-weight: bold\">Model: \"functional\"</span>\n",
              "</pre>\n"
            ]
          },
          "metadata": {}
        },
        {
          "output_type": "display_data",
          "data": {
            "text/plain": [
              "┏━━━━━━━━━━━━━━━━━━━━━┳━━━━━━━━━━━━━━━━━━━┳━━━━━━━━━━━━┳━━━━━━━━━━━━━━━━━━━┓\n",
              "┃\u001b[1m \u001b[0m\u001b[1mLayer (type)       \u001b[0m\u001b[1m \u001b[0m┃\u001b[1m \u001b[0m\u001b[1mOutput Shape     \u001b[0m\u001b[1m \u001b[0m┃\u001b[1m \u001b[0m\u001b[1m   Param #\u001b[0m\u001b[1m \u001b[0m┃\u001b[1m \u001b[0m\u001b[1mConnected to     \u001b[0m\u001b[1m \u001b[0m┃\n",
              "┡━━━━━━━━━━━━━━━━━━━━━╇━━━━━━━━━━━━━━━━━━━╇━━━━━━━━━━━━╇━━━━━━━━━━━━━━━━━━━┩\n",
              "│ input_layer         │ (\u001b[38;5;45mNone\u001b[0m, \u001b[38;5;34m66\u001b[0m)        │          \u001b[38;5;34m0\u001b[0m │ -                 │\n",
              "│ (\u001b[38;5;33mInputLayer\u001b[0m)        │                   │            │                   │\n",
              "├─────────────────────┼───────────────────┼────────────┼───────────────────┤\n",
              "│ input_layer_1       │ (\u001b[38;5;45mNone\u001b[0m, \u001b[38;5;34m48\u001b[0m)        │          \u001b[38;5;34m0\u001b[0m │ -                 │\n",
              "│ (\u001b[38;5;33mInputLayer\u001b[0m)        │                   │            │                   │\n",
              "├─────────────────────┼───────────────────┼────────────┼───────────────────┤\n",
              "│ enc_emb (\u001b[38;5;33mEmbedding\u001b[0m) │ (\u001b[38;5;45mNone\u001b[0m, \u001b[38;5;34m66\u001b[0m, \u001b[38;5;34m256\u001b[0m)   │  \u001b[38;5;34m2,949,632\u001b[0m │ input_layer[\u001b[38;5;34m0\u001b[0m][\u001b[38;5;34m0\u001b[0m] │\n",
              "├─────────────────────┼───────────────────┼────────────┼───────────────────┤\n",
              "│ dec_emb (\u001b[38;5;33mEmbedding\u001b[0m) │ (\u001b[38;5;45mNone\u001b[0m, \u001b[38;5;34m48\u001b[0m, \u001b[38;5;34m256\u001b[0m)   │  \u001b[38;5;34m2,949,632\u001b[0m │ input_layer_1[\u001b[38;5;34m0\u001b[0m]… │\n",
              "├─────────────────────┼───────────────────┼────────────┼───────────────────┤\n",
              "│ enc_lstm (\u001b[38;5;33mLSTM\u001b[0m)     │ [(\u001b[38;5;45mNone\u001b[0m, \u001b[38;5;34m256\u001b[0m),     │    \u001b[38;5;34m525,312\u001b[0m │ enc_emb[\u001b[38;5;34m0\u001b[0m][\u001b[38;5;34m0\u001b[0m]     │\n",
              "│                     │ (\u001b[38;5;45mNone\u001b[0m, \u001b[38;5;34m256\u001b[0m),      │            │                   │\n",
              "│                     │ (\u001b[38;5;45mNone\u001b[0m, \u001b[38;5;34m256\u001b[0m)]      │            │                   │\n",
              "├─────────────────────┼───────────────────┼────────────┼───────────────────┤\n",
              "│ dec_lstm (\u001b[38;5;33mLSTM\u001b[0m)     │ [(\u001b[38;5;45mNone\u001b[0m, \u001b[38;5;34m48\u001b[0m, \u001b[38;5;34m256\u001b[0m), │    \u001b[38;5;34m525,312\u001b[0m │ dec_emb[\u001b[38;5;34m0\u001b[0m][\u001b[38;5;34m0\u001b[0m],    │\n",
              "│                     │ (\u001b[38;5;45mNone\u001b[0m, \u001b[38;5;34m256\u001b[0m),      │            │ enc_lstm[\u001b[38;5;34m0\u001b[0m][\u001b[38;5;34m1\u001b[0m],   │\n",
              "│                     │ (\u001b[38;5;45mNone\u001b[0m, \u001b[38;5;34m256\u001b[0m)]      │            │ enc_lstm[\u001b[38;5;34m0\u001b[0m][\u001b[38;5;34m2\u001b[0m]    │\n",
              "├─────────────────────┼───────────────────┼────────────┼───────────────────┤\n",
              "│ output_dense        │ (\u001b[38;5;45mNone\u001b[0m, \u001b[38;5;34m48\u001b[0m, \u001b[38;5;34m11522\u001b[0m) │  \u001b[38;5;34m2,961,154\u001b[0m │ dec_lstm[\u001b[38;5;34m0\u001b[0m][\u001b[38;5;34m0\u001b[0m]    │\n",
              "│ (\u001b[38;5;33mDense\u001b[0m)             │                   │            │                   │\n",
              "└─────────────────────┴───────────────────┴────────────┴───────────────────┘\n"
            ],
            "text/html": [
              "<pre style=\"white-space:pre;overflow-x:auto;line-height:normal;font-family:Menlo,'DejaVu Sans Mono',consolas,'Courier New',monospace\">┏━━━━━━━━━━━━━━━━━━━━━┳━━━━━━━━━━━━━━━━━━━┳━━━━━━━━━━━━┳━━━━━━━━━━━━━━━━━━━┓\n",
              "┃<span style=\"font-weight: bold\"> Layer (type)        </span>┃<span style=\"font-weight: bold\"> Output Shape      </span>┃<span style=\"font-weight: bold\">    Param # </span>┃<span style=\"font-weight: bold\"> Connected to      </span>┃\n",
              "┡━━━━━━━━━━━━━━━━━━━━━╇━━━━━━━━━━━━━━━━━━━╇━━━━━━━━━━━━╇━━━━━━━━━━━━━━━━━━━┩\n",
              "│ input_layer         │ (<span style=\"color: #00d7ff; text-decoration-color: #00d7ff\">None</span>, <span style=\"color: #00af00; text-decoration-color: #00af00\">66</span>)        │          <span style=\"color: #00af00; text-decoration-color: #00af00\">0</span> │ -                 │\n",
              "│ (<span style=\"color: #0087ff; text-decoration-color: #0087ff\">InputLayer</span>)        │                   │            │                   │\n",
              "├─────────────────────┼───────────────────┼────────────┼───────────────────┤\n",
              "│ input_layer_1       │ (<span style=\"color: #00d7ff; text-decoration-color: #00d7ff\">None</span>, <span style=\"color: #00af00; text-decoration-color: #00af00\">48</span>)        │          <span style=\"color: #00af00; text-decoration-color: #00af00\">0</span> │ -                 │\n",
              "│ (<span style=\"color: #0087ff; text-decoration-color: #0087ff\">InputLayer</span>)        │                   │            │                   │\n",
              "├─────────────────────┼───────────────────┼────────────┼───────────────────┤\n",
              "│ enc_emb (<span style=\"color: #0087ff; text-decoration-color: #0087ff\">Embedding</span>) │ (<span style=\"color: #00d7ff; text-decoration-color: #00d7ff\">None</span>, <span style=\"color: #00af00; text-decoration-color: #00af00\">66</span>, <span style=\"color: #00af00; text-decoration-color: #00af00\">256</span>)   │  <span style=\"color: #00af00; text-decoration-color: #00af00\">2,949,632</span> │ input_layer[<span style=\"color: #00af00; text-decoration-color: #00af00\">0</span>][<span style=\"color: #00af00; text-decoration-color: #00af00\">0</span>] │\n",
              "├─────────────────────┼───────────────────┼────────────┼───────────────────┤\n",
              "│ dec_emb (<span style=\"color: #0087ff; text-decoration-color: #0087ff\">Embedding</span>) │ (<span style=\"color: #00d7ff; text-decoration-color: #00d7ff\">None</span>, <span style=\"color: #00af00; text-decoration-color: #00af00\">48</span>, <span style=\"color: #00af00; text-decoration-color: #00af00\">256</span>)   │  <span style=\"color: #00af00; text-decoration-color: #00af00\">2,949,632</span> │ input_layer_1[<span style=\"color: #00af00; text-decoration-color: #00af00\">0</span>]… │\n",
              "├─────────────────────┼───────────────────┼────────────┼───────────────────┤\n",
              "│ enc_lstm (<span style=\"color: #0087ff; text-decoration-color: #0087ff\">LSTM</span>)     │ [(<span style=\"color: #00d7ff; text-decoration-color: #00d7ff\">None</span>, <span style=\"color: #00af00; text-decoration-color: #00af00\">256</span>),     │    <span style=\"color: #00af00; text-decoration-color: #00af00\">525,312</span> │ enc_emb[<span style=\"color: #00af00; text-decoration-color: #00af00\">0</span>][<span style=\"color: #00af00; text-decoration-color: #00af00\">0</span>]     │\n",
              "│                     │ (<span style=\"color: #00d7ff; text-decoration-color: #00d7ff\">None</span>, <span style=\"color: #00af00; text-decoration-color: #00af00\">256</span>),      │            │                   │\n",
              "│                     │ (<span style=\"color: #00d7ff; text-decoration-color: #00d7ff\">None</span>, <span style=\"color: #00af00; text-decoration-color: #00af00\">256</span>)]      │            │                   │\n",
              "├─────────────────────┼───────────────────┼────────────┼───────────────────┤\n",
              "│ dec_lstm (<span style=\"color: #0087ff; text-decoration-color: #0087ff\">LSTM</span>)     │ [(<span style=\"color: #00d7ff; text-decoration-color: #00d7ff\">None</span>, <span style=\"color: #00af00; text-decoration-color: #00af00\">48</span>, <span style=\"color: #00af00; text-decoration-color: #00af00\">256</span>), │    <span style=\"color: #00af00; text-decoration-color: #00af00\">525,312</span> │ dec_emb[<span style=\"color: #00af00; text-decoration-color: #00af00\">0</span>][<span style=\"color: #00af00; text-decoration-color: #00af00\">0</span>],    │\n",
              "│                     │ (<span style=\"color: #00d7ff; text-decoration-color: #00d7ff\">None</span>, <span style=\"color: #00af00; text-decoration-color: #00af00\">256</span>),      │            │ enc_lstm[<span style=\"color: #00af00; text-decoration-color: #00af00\">0</span>][<span style=\"color: #00af00; text-decoration-color: #00af00\">1</span>],   │\n",
              "│                     │ (<span style=\"color: #00d7ff; text-decoration-color: #00d7ff\">None</span>, <span style=\"color: #00af00; text-decoration-color: #00af00\">256</span>)]      │            │ enc_lstm[<span style=\"color: #00af00; text-decoration-color: #00af00\">0</span>][<span style=\"color: #00af00; text-decoration-color: #00af00\">2</span>]    │\n",
              "├─────────────────────┼───────────────────┼────────────┼───────────────────┤\n",
              "│ output_dense        │ (<span style=\"color: #00d7ff; text-decoration-color: #00d7ff\">None</span>, <span style=\"color: #00af00; text-decoration-color: #00af00\">48</span>, <span style=\"color: #00af00; text-decoration-color: #00af00\">11522</span>) │  <span style=\"color: #00af00; text-decoration-color: #00af00\">2,961,154</span> │ dec_lstm[<span style=\"color: #00af00; text-decoration-color: #00af00\">0</span>][<span style=\"color: #00af00; text-decoration-color: #00af00\">0</span>]    │\n",
              "│ (<span style=\"color: #0087ff; text-decoration-color: #0087ff\">Dense</span>)             │                   │            │                   │\n",
              "└─────────────────────┴───────────────────┴────────────┴───────────────────┘\n",
              "</pre>\n"
            ]
          },
          "metadata": {}
        },
        {
          "output_type": "display_data",
          "data": {
            "text/plain": [
              "\u001b[1m Total params: \u001b[0m\u001b[38;5;34m9,911,042\u001b[0m (37.81 MB)\n"
            ],
            "text/html": [
              "<pre style=\"white-space:pre;overflow-x:auto;line-height:normal;font-family:Menlo,'DejaVu Sans Mono',consolas,'Courier New',monospace\"><span style=\"font-weight: bold\"> Total params: </span><span style=\"color: #00af00; text-decoration-color: #00af00\">9,911,042</span> (37.81 MB)\n",
              "</pre>\n"
            ]
          },
          "metadata": {}
        },
        {
          "output_type": "display_data",
          "data": {
            "text/plain": [
              "\u001b[1m Trainable params: \u001b[0m\u001b[38;5;34m9,911,042\u001b[0m (37.81 MB)\n"
            ],
            "text/html": [
              "<pre style=\"white-space:pre;overflow-x:auto;line-height:normal;font-family:Menlo,'DejaVu Sans Mono',consolas,'Courier New',monospace\"><span style=\"font-weight: bold\"> Trainable params: </span><span style=\"color: #00af00; text-decoration-color: #00af00\">9,911,042</span> (37.81 MB)\n",
              "</pre>\n"
            ]
          },
          "metadata": {}
        },
        {
          "output_type": "display_data",
          "data": {
            "text/plain": [
              "\u001b[1m Non-trainable params: \u001b[0m\u001b[38;5;34m0\u001b[0m (0.00 B)\n"
            ],
            "text/html": [
              "<pre style=\"white-space:pre;overflow-x:auto;line-height:normal;font-family:Menlo,'DejaVu Sans Mono',consolas,'Courier New',monospace\"><span style=\"font-weight: bold\"> Non-trainable params: </span><span style=\"color: #00af00; text-decoration-color: #00af00\">0</span> (0.00 B)\n",
              "</pre>\n"
            ]
          },
          "metadata": {}
        },
        {
          "output_type": "stream",
          "name": "stdout",
          "text": [
            "Epoch 1/10\n",
            "\u001b[1m250/250\u001b[0m \u001b[32m━━━━━━━━━━━━━━━━━━━━\u001b[0m\u001b[37m\u001b[0m \u001b[1m18s\u001b[0m 55ms/step - loss: 3.2476 - val_loss: 1.7572\n",
            "Epoch 2/10\n",
            "\u001b[1m250/250\u001b[0m \u001b[32m━━━━━━━━━━━━━━━━━━━━\u001b[0m\u001b[37m\u001b[0m \u001b[1m19s\u001b[0m 55ms/step - loss: 1.7083 - val_loss: 1.6466\n",
            "Epoch 3/10\n",
            "\u001b[1m250/250\u001b[0m \u001b[32m━━━━━━━━━━━━━━━━━━━━\u001b[0m\u001b[37m\u001b[0m \u001b[1m21s\u001b[0m 55ms/step - loss: 1.5836 - val_loss: 1.5571\n",
            "Epoch 4/10\n",
            "\u001b[1m250/250\u001b[0m \u001b[32m━━━━━━━━━━━━━━━━━━━━\u001b[0m\u001b[37m\u001b[0m \u001b[1m14s\u001b[0m 56ms/step - loss: 1.4830 - val_loss: 1.4856\n",
            "Epoch 5/10\n",
            "\u001b[1m250/250\u001b[0m \u001b[32m━━━━━━━━━━━━━━━━━━━━\u001b[0m\u001b[37m\u001b[0m \u001b[1m21s\u001b[0m 57ms/step - loss: 1.3971 - val_loss: 1.4231\n",
            "Epoch 6/10\n",
            "\u001b[1m250/250\u001b[0m \u001b[32m━━━━━━━━━━━━━━━━━━━━\u001b[0m\u001b[37m\u001b[0m \u001b[1m21s\u001b[0m 58ms/step - loss: 1.3213 - val_loss: 1.3650\n",
            "Epoch 7/10\n",
            "\u001b[1m250/250\u001b[0m \u001b[32m━━━━━━━━━━━━━━━━━━━━\u001b[0m\u001b[37m\u001b[0m \u001b[1m21s\u001b[0m 58ms/step - loss: 1.2382 - val_loss: 1.3173\n",
            "Epoch 8/10\n",
            "\u001b[1m250/250\u001b[0m \u001b[32m━━━━━━━━━━━━━━━━━━━━\u001b[0m\u001b[37m\u001b[0m \u001b[1m20s\u001b[0m 58ms/step - loss: 1.1832 - val_loss: 1.2785\n",
            "Epoch 9/10\n",
            "\u001b[1m250/250\u001b[0m \u001b[32m━━━━━━━━━━━━━━━━━━━━\u001b[0m\u001b[37m\u001b[0m \u001b[1m20s\u001b[0m 58ms/step - loss: 1.1045 - val_loss: 1.2424\n",
            "Epoch 10/10\n",
            "\u001b[1m250/250\u001b[0m \u001b[32m━━━━━━━━━━━━━━━━━━━━\u001b[0m\u001b[37m\u001b[0m \u001b[1m20s\u001b[0m 58ms/step - loss: 1.0391 - val_loss: 1.2092\n",
            "Training Time: 194.25s\n"
          ]
        },
        {
          "output_type": "display_data",
          "data": {
            "text/plain": [
              "<Figure size 640x480 with 1 Axes>"
            ],
            "image/png": "[encoded data removed]"
          },
          "metadata": {}
        },
        {
          "output_type": "stream",
          "name": "stdout",
          "text": [
            "Inference time per sample: 1.302s\n"
          ]
        },
        {
          "output_type": "stream",
          "name": "stderr",
          "text": [
            "[nltk_data] Downloading package wordnet to /root/nltk_data...\n",
            "[nltk_data] Downloading package omw-1.4 to /root/nltk_data...\n"
          ]
        },
        {
          "output_type": "stream",
          "name": "stdout",
          "text": [
            "Avg BLEU:     0.0258\n",
            "Avg ROUGE-L:  0.1698\n",
            "Avg METEOR:   0.1450\n"
          ]
        }
      ],
      "source": [
        "# Extract sentence pairs\n",
        "pairs = []\n",
        "for _, row in df.iterrows():\n",
        "    src = row['text']\n",
        "    for tgt in row['paraphrases']:\n",
        "        pairs.append((src, tgt))\n",
        "\n",
        "print(len(pairs))\n",
        "pairs = pairs[:20000]  # Limit for speed\n",
        "\n",
        "#  Train-validation split\n",
        "train_pairs, val_pairs = train_test_split(pairs, test_size=0.2, random_state=42)\n",
        "train_src = [p[0] for p in train_pairs]\n",
        "train_tgt = [p[1] for p in train_pairs]\n",
        "val_src   = [p[0] for p in val_pairs]\n",
        "val_tgt   = [p[1] for p in val_pairs]\n",
        "\n",
        "#  Tokenization\n",
        "tokenizer = Tokenizer(oov_token=\"<unk>\")\n",
        "tokenizer.fit_on_texts(train_src + train_tgt)\n",
        "vocab_size = len(tokenizer.word_index) + 1\n",
        "\n",
        "# Convert to sequences\n",
        "train_src_seq = tokenizer.texts_to_sequences(train_src)\n",
        "train_tgt_seq = tokenizer.texts_to_sequences(train_tgt)\n",
        "val_src_seq   = tokenizer.texts_to_sequences(val_src)\n",
        "val_tgt_seq   = tokenizer.texts_to_sequences(val_tgt)\n",
        "\n",
        "# Add <sos> and <eos> tokens\n",
        "sos = vocab_size\n",
        "tokenizer.word_index['<sos>'] = sos\n",
        "eos = vocab_size + 1\n",
        "tokenizer.word_index['<eos>'] = eos\n",
        "vocab_size += 2\n",
        "def add_sos_eos(seq): return [sos] + seq + [eos]\n",
        "train_tgt_seq = [add_sos_eos(s) for s in train_tgt_seq]\n",
        "val_tgt_seq   = [add_sos_eos(s) for s in val_tgt_seq]\n",
        "\n",
        "#  Padding\n",
        "max_src_len = max(len(s) for s in train_src_seq)\n",
        "max_tgt_len = max(len(s) for s in train_tgt_seq)\n",
        "train_src_seq = pad_sequences(train_src_seq, maxlen=max_src_len, padding='post')\n",
        "train_tgt_seq = pad_sequences(train_tgt_seq, maxlen=max_tgt_len, padding='post')\n",
        "val_src_seq   = pad_sequences(val_src_seq,   maxlen=max_src_len, padding='post')\n",
        "val_tgt_seq   = pad_sequences(val_tgt_seq,   maxlen=max_tgt_len, padding='post')\n",
        "\n",
        "# Split decoder input/output\n",
        "decoder_input_train  = train_tgt_seq[:, :-1]\n",
        "decoder_target_train = train_tgt_seq[:, 1:]\n",
        "decoder_input_val    = val_tgt_seq[:, :-1]\n",
        "decoder_target_val   = val_tgt_seq[:, 1:]\n",
        "\n",
        "#  Model setup\n",
        "latent_dim = 256\n",
        "\n",
        "#  Encoder\n",
        "encoder_inputs = tf.keras.Input(shape=(max_src_len,))\n",
        "enc_emb = tf.keras.layers.Embedding(vocab_size, latent_dim, name=\"enc_emb\")(encoder_inputs)\n",
        "_, state_h, state_c = tf.keras.layers.LSTM(latent_dim, return_state=True, name=\"enc_lstm\")(enc_emb)\n",
        "encoder_states = [state_h, state_c]\n",
        "\n",
        "#  Decoder\n",
        "decoder_inputs = tf.keras.Input(shape=(max_tgt_len - 1,))\n",
        "dec_emb = tf.keras.layers.Embedding(vocab_size, latent_dim, name=\"dec_emb\")(decoder_inputs)\n",
        "dec_lstm, _, _ = tf.keras.layers.LSTM(latent_dim, return_sequences=True, return_state=True, name=\"dec_lstm\")(\n",
        "    dec_emb, initial_state=encoder_states)\n",
        "decoder_outputs = tf.keras.layers.Dense(vocab_size, activation='softmax', name=\"output_dense\")(dec_lstm)\n",
        "\n",
        "#  Build and compile model\n",
        "model = tf.keras.Model([encoder_inputs, decoder_inputs], decoder_outputs)\n",
        "model.compile(optimizer='adam', loss='sparse_categorical_crossentropy')\n",
        "model.summary()\n",
        "\n",
        "#  Train model\n",
        "start = time.time()\n",
        "history = model.fit(\n",
        "    [train_src_seq, decoder_input_train],\n",
        "    decoder_target_train[..., np.newaxis],\n",
        "    validation_data=([val_src_seq, decoder_input_val], decoder_target_val[..., np.newaxis]),\n",
        "    batch_size=64,\n",
        "    epochs=10\n",
        ")\n",
        "print(f\"Training Time: {time.time() - start:.2f}s\")\n",
        "\n",
        "#  Plot training history\n",
        "plt.plot(history.history['loss'], label='Train')\n",
        "plt.plot(history.history['val_loss'], label='Val')\n",
        "plt.xlabel('Epochs'); plt.ylabel('Loss'); plt.legend(); plt.show()\n",
        "\n",
        "#  Inference setup\n",
        "enc_model = tf.keras.Model(encoder_inputs, encoder_states)\n",
        "dec_state_h = tf.keras.Input(shape=(latent_dim,))\n",
        "dec_state_c = tf.keras.Input(shape=(latent_dim,))\n",
        "dec_states_inputs = [dec_state_h, dec_state_c]\n",
        "dec_emb_layer = model.get_layer(\"dec_emb\")\n",
        "dec_lstm_layer = model.get_layer(\"dec_lstm\")\n",
        "dense_layer = model.get_layer(\"output_dense\")\n",
        "dec_emb2 = dec_emb_layer(decoder_inputs)\n",
        "dec_lstm2, state_h2, state_c2 = dec_lstm_layer(dec_emb2, initial_state=dec_states_inputs)\n",
        "dec_outputs2 = dense_layer(dec_lstm2)\n",
        "dec_model = tf.keras.Model([decoder_inputs] + dec_states_inputs, [dec_outputs2, state_h2, state_c2])\n",
        "\n",
        "#  Reverse lookup for tokens\n",
        "reverse_word_index = {i: w for w, i in tokenizer.word_index.items()}\n",
        "\n",
        "#  Decode sequence\n",
        "def decode_sequence(input_seq):\n",
        "    states = enc_model.predict(input_seq, verbose=0)\n",
        "    target_seq = np.array([[sos]])\n",
        "    decoded = []\n",
        "    for _ in range(max_tgt_len):\n",
        "        output_tokens, h, c = dec_model.predict([target_seq] + states, verbose=0)\n",
        "        sampled_id = np.argmax(output_tokens[0, -1, :])\n",
        "        if sampled_id == eos:\n",
        "            break\n",
        "        decoded.append(reverse_word_index.get(sampled_id, '<unk>'))\n",
        "        target_seq = np.array([[sampled_id]])\n",
        "        states = [h, c]\n",
        "    return ' '.join(decoded)\n",
        "\n",
        "#  Measure inference time\n",
        "start = time.time()\n",
        "samples = val_src_seq[:100]\n",
        "decoded_texts = [decode_sequence(seq.reshape(1, -1)) for seq in samples]\n",
        "inf_time = (time.time() - start) / len(samples)\n",
        "print(f\"Inference time per sample: {inf_time:.3f}s\")\n",
        "\n",
        "#  Evaluate performance\n",
        "nltk.download('wordnet')\n",
        "nltk.download('omw-1.4')\n",
        "scorer = rouge_scorer.RougeScorer(['rougeL'], use_stemmer=True)\n",
        "smoothie = SmoothingFunction().method4\n",
        "bleu_scores, rouge_scores, meteor_scores = [], [], []\n",
        "\n",
        "for i, src in enumerate(val_src_seq[:100]):\n",
        "    ref = val_tgt[i].split()\n",
        "    cand = decoded_texts[i].split()\n",
        "    bleu_scores.append(sentence_bleu([ref], cand, smoothing_function=smoothie))\n",
        "    meteor_scores.append(single_meteor_score(ref, cand))\n",
        "    rouge_scores.append(scorer.score(' '.join(ref), ' '.join(cand))['rougeL'].fmeasure)\n",
        "\n",
        "print(f\"Avg BLEU:     {np.mean(bleu_scores):.4f}\")\n",
        "print(f\"Avg ROUGE-L:  {np.mean(rouge_scores):.4f}\")\n",
        "print(f\"Avg METEOR:   {np.mean(meteor_scores):.4f}\")\n"
      ]
    },
    {
      "cell_type": "code",
      "execution_count": null,
      "metadata": {
        "id": "ecuM8i-8uUnI",
        "colab": {
          "base_uri": "https://localhost:8080/"
        },
        "outputId": "eb9dd755-cb0d-4ee7-88cb-e670d637004c"
      },
      "outputs": [
        {
          "output_type": "stream",
          "name": "stdout",
          "text": [
            "\n",
            "Showing first 10 validation examples:\n",
            "\n",
            "Example 1:\n",
            "  Input : What is the power factor in the open delta connection of transformers? How is it determined?\n",
            "  Actual: How can the power factor be determined in the open delta connection of transformers?\n",
            "  Pred  : what is the reason for the absence of a person in the indian army to live in the usa\n",
            "\n",
            "-------------------------------------\n",
            "Example 2:\n",
            "  Input : Do you regret your divorce?\n",
            "  Actual: Do you feel any remorse for ending your marriage?\n",
            "  Pred  : is it possible for me to use to be the most significant in the world war\n",
            "\n",
            "-------------------------------------\n",
            "Example 3:\n",
            "  Input : What are the best books for basic electrical engineering?\n",
            "  Actual: What are the most useful books for gaining knowledge in basic electrical engineering?\n",
            "  Pred  : what are the most effective methods for learning guitar\n",
            "\n",
            "-------------------------------------\n",
            "Example 4:\n",
            "  Input : How can I find job in Japan?\n",
            "  Actual: What is the process for finding employment in Japan?\n",
            "  Pred  : what is the reason for the term used in the indian army to live\n",
            "\n",
            "-------------------------------------\n",
            "Example 5:\n",
            "  Input : How can we know if a dual sim mobile is also a dual 4G or dual LTE just from its specifications?\n",
            "  Actual: From the specifications of a dual sim phone, can we determine if it is also a dual 4G or dual LTE device?\n",
            "  Pred  : what is the reason for the u s navy's decision to be the same number of the indian economy and how does it compare to the same level of this\n",
            "\n",
            "-------------------------------------\n",
            "Example 6:\n",
            "  Input : How much does Kapil Sharma charge for a show?\n",
            "  Actual: How much money does Kapil Sharma charge for his appearances?\n",
            "  Pred  : what is the reason for the term used in the indian army to live\n",
            "\n",
            "-------------------------------------\n",
            "Example 7:\n",
            "  Input : What color was Adam and Eve?\n",
            "  Actual: What was the skin tone of Adam and Eve?\n",
            "  Pred  : what are the most effective methods for learning guitar\n",
            "\n",
            "-------------------------------------\n",
            "Example 8:\n",
            "  Input : What should I do for Web design?\n",
            "  Actual: How can I improve my Web design?\n",
            "  Pred  : what are the steps to follow to get ready for the internet\n",
            "\n",
            "-------------------------------------\n",
            "Example 9:\n",
            "  Input : Which is the best country to do mbbs?\n",
            "  Actual: In which country can one find the best MBBS program?\n",
            "  Pred  : what is the most effective way to learn in the internet\n",
            "\n",
            "-------------------------------------\n",
            "Example 10:\n",
            "  Input : What is the best quote you’ve heard?\n",
            "  Actual: What is the most memorable quote you've come across?\n",
            "  Pred  : what is the most effective way to earn money in the internet\n",
            "\n",
            "-------------------------------------\n"
          ]
        }
      ],
      "source": [
        "\n",
        "# We already have:\n",
        "#   val_src   – list of original sentences (strings)\n",
        "#   val_tgt   – list of ground‑truth paraphrases (strings)\n",
        "#   decoded_texts – list of predicted paraphrase strings\n",
        "\n",
        "# Let’s display the first N examples:\n",
        "N = 10\n",
        "print(f\"\\nShowing first {N} validation examples:\\n\")\n",
        "for i in range(N):\n",
        "    inp = val_src[i]\n",
        "    true = val_tgt[i]\n",
        "    pred = decoded_texts[i]\n",
        "    print(f\"Example {i+1}:\")\n",
        "    print(f\"  Input : {inp}\")\n",
        "    print(f\"  Actual: {true}\")\n",
        "    print(f\"  Pred  : {pred}\\n\")\n",
        "    print(\"-------------------------------------\")\n"
      ]
    },
    {
      "cell_type": "markdown",
      "source": [
        "### **Paraphrase Generator using Encoder-Decoder LSTM (with Attention)**"
      ],
      "metadata": {
        "id": "uI75W4Q28lG2"
      }
    },
    {
      "cell_type": "code",
      "source": [
        "# 📦 Imports\n",
        "import ast\n",
        "import time\n",
        "import numpy as np\n",
        "import pandas as pd\n",
        "import matplotlib.pyplot as plt\n",
        "import tensorflow as tf\n",
        "from sklearn.model_selection import train_test_split\n",
        "from tensorflow.keras.preprocessing.text import Tokenizer\n",
        "from tensorflow.keras.preprocessing.sequence import pad_sequences\n",
        "from nltk.translate.bleu_score import sentence_bleu, SmoothingFunction\n",
        "from nltk.translate.meteor_score import single_meteor_score\n",
        "from rouge_score import rouge_scorer\n",
        "import nltk\n",
        "\n",
        "# 📥 Load dataset\n",
        "df = pd.read_csv(\"/content/sample_data/chatgpt_paraphrases.csv\", engine=\"python\", on_bad_lines=\"skip\")\n",
        "#df = df[:5000]\n",
        "df['paraphrases'] = df['paraphrases'].apply(ast.literal_eval)\n",
        "print(df.shape)"
      ],
      "metadata": {
        "id": "lXDjAZZb80c1",
        "colab": {
          "base_uri": "https://localhost:8080/"
        },
        "outputId": "3c40d7aa-d1ff-4903-fe18-263b17713005"
      },
      "execution_count": null,
      "outputs": [
        {
          "output_type": "stream",
          "name": "stdout",
          "text": [
            "(140359, 4)\n"
          ]
        }
      ]
    },
    {
      "cell_type": "code",
      "execution_count": null,
      "metadata": {
        "id": "pNkDxPNCz4S8",
        "colab": {
          "base_uri": "https://localhost:8080/",
          "height": 1000
        },
        "outputId": "84d76bf5-0263-4b38-954c-e2dc36f13685"
      },
      "outputs": [
        {
          "output_type": "stream",
          "name": "stdout",
          "text": [
            "701795\n"
          ]
        },
        {
          "output_type": "stream",
          "name": "stderr",
          "text": [
            "/usr/local/lib/python3.11/dist-packages/keras/src/layers/layer.py:938: UserWarning: Layer 'attention' (of type Attention) was passed an input with a mask attached to it. However, this layer does not support masking and will therefore destroy the mask information. Downstream layers will not see the mask.\n",
            "  warnings.warn(\n",
            "/usr/local/lib/python3.11/dist-packages/keras/src/layers/layer.py:938: UserWarning: Layer 'concatenate_layer' (of type ConcatenateLayer) was passed an input with a mask attached to it. However, this layer does not support masking and will therefore destroy the mask information. Downstream layers will not see the mask.\n",
            "  warnings.warn(\n"
          ]
        },
        {
          "output_type": "display_data",
          "data": {
            "text/plain": [
              "\u001b[1mModel: \"functional_3\"\u001b[0m\n"
            ],
            "text/html": [
              "<pre style=\"white-space:pre;overflow-x:auto;line-height:normal;font-family:Menlo,'DejaVu Sans Mono',consolas,'Courier New',monospace\"><span style=\"font-weight: bold\">Model: \"functional_3\"</span>\n",
              "</pre>\n"
            ]
          },
          "metadata": {}
        },
        {
          "output_type": "display_data",
          "data": {
            "text/plain": [
              "┏━━━━━━━━━━━━━━━━━━━━━┳━━━━━━━━━━━━━━━━━━━┳━━━━━━━━━━━━┳━━━━━━━━━━━━━━━━━━━┓\n",
              "┃\u001b[1m \u001b[0m\u001b[1mLayer (type)       \u001b[0m\u001b[1m \u001b[0m┃\u001b[1m \u001b[0m\u001b[1mOutput Shape     \u001b[0m\u001b[1m \u001b[0m┃\u001b[1m \u001b[0m\u001b[1m   Param #\u001b[0m\u001b[1m \u001b[0m┃\u001b[1m \u001b[0m\u001b[1mConnected to     \u001b[0m\u001b[1m \u001b[0m┃\n",
              "┡━━━━━━━━━━━━━━━━━━━━━╇━━━━━━━━━━━━━━━━━━━╇━━━━━━━━━━━━╇━━━━━━━━━━━━━━━━━━━┩\n",
              "│ input_layer_4       │ (\u001b[38;5;45mNone\u001b[0m, \u001b[38;5;34m37\u001b[0m)        │          \u001b[38;5;34m0\u001b[0m │ -                 │\n",
              "│ (\u001b[38;5;33mInputLayer\u001b[0m)        │                   │            │                   │\n",
              "├─────────────────────┼───────────────────┼────────────┼───────────────────┤\n",
              "│ input_layer_5       │ (\u001b[38;5;45mNone\u001b[0m, \u001b[38;5;34m40\u001b[0m)        │          \u001b[38;5;34m0\u001b[0m │ -                 │\n",
              "│ (\u001b[38;5;33mInputLayer\u001b[0m)        │                   │            │                   │\n",
              "├─────────────────────┼───────────────────┼────────────┼───────────────────┤\n",
              "│ embedding           │ (\u001b[38;5;45mNone\u001b[0m, \u001b[38;5;34m37\u001b[0m, \u001b[38;5;34m256\u001b[0m)   │  \u001b[38;5;34m1,420,032\u001b[0m │ input_layer_4[\u001b[38;5;34m0\u001b[0m]… │\n",
              "│ (\u001b[38;5;33mEmbedding\u001b[0m)         │                   │            │                   │\n",
              "├─────────────────────┼───────────────────┼────────────┼───────────────────┤\n",
              "│ not_equal           │ (\u001b[38;5;45mNone\u001b[0m, \u001b[38;5;34m37\u001b[0m)        │          \u001b[38;5;34m0\u001b[0m │ input_layer_4[\u001b[38;5;34m0\u001b[0m]… │\n",
              "│ (\u001b[38;5;33mNotEqual\u001b[0m)          │                   │            │                   │\n",
              "├─────────────────────┼───────────────────┼────────────┼───────────────────┤\n",
              "│ embedding_1         │ (\u001b[38;5;45mNone\u001b[0m, \u001b[38;5;34m40\u001b[0m, \u001b[38;5;34m256\u001b[0m)   │  \u001b[38;5;34m1,420,032\u001b[0m │ input_layer_5[\u001b[38;5;34m0\u001b[0m]… │\n",
              "│ (\u001b[38;5;33mEmbedding\u001b[0m)         │                   │            │                   │\n",
              "├─────────────────────┼───────────────────┼────────────┼───────────────────┤\n",
              "│ lstm (\u001b[38;5;33mLSTM\u001b[0m)         │ [(\u001b[38;5;45mNone\u001b[0m, \u001b[38;5;34m37\u001b[0m, \u001b[38;5;34m256\u001b[0m), │    \u001b[38;5;34m525,312\u001b[0m │ embedding[\u001b[38;5;34m0\u001b[0m][\u001b[38;5;34m0\u001b[0m],  │\n",
              "│                     │ (\u001b[38;5;45mNone\u001b[0m, \u001b[38;5;34m256\u001b[0m),      │            │ not_equal[\u001b[38;5;34m0\u001b[0m][\u001b[38;5;34m0\u001b[0m]   │\n",
              "│                     │ (\u001b[38;5;45mNone\u001b[0m, \u001b[38;5;34m256\u001b[0m)]      │            │                   │\n",
              "├─────────────────────┼───────────────────┼────────────┼───────────────────┤\n",
              "│ lstm_1 (\u001b[38;5;33mLSTM\u001b[0m)       │ [(\u001b[38;5;45mNone\u001b[0m, \u001b[38;5;34m40\u001b[0m, \u001b[38;5;34m256\u001b[0m), │    \u001b[38;5;34m525,312\u001b[0m │ embedding_1[\u001b[38;5;34m0\u001b[0m][\u001b[38;5;34m0\u001b[0m… │\n",
              "│                     │ (\u001b[38;5;45mNone\u001b[0m, \u001b[38;5;34m256\u001b[0m),      │            │ lstm[\u001b[38;5;34m0\u001b[0m][\u001b[38;5;34m1\u001b[0m],       │\n",
              "│                     │ (\u001b[38;5;45mNone\u001b[0m, \u001b[38;5;34m256\u001b[0m)]      │            │ lstm[\u001b[38;5;34m0\u001b[0m][\u001b[38;5;34m2\u001b[0m]        │\n",
              "├─────────────────────┼───────────────────┼────────────┼───────────────────┤\n",
              "│ attention           │ [(\u001b[38;5;45mNone\u001b[0m, \u001b[38;5;34m256\u001b[0m),     │    \u001b[38;5;34m131,841\u001b[0m │ lstm[\u001b[38;5;34m0\u001b[0m][\u001b[38;5;34m0\u001b[0m],       │\n",
              "│ (\u001b[38;5;33mAttention\u001b[0m)         │ (\u001b[38;5;45mNone\u001b[0m, \u001b[38;5;34m37\u001b[0m, \u001b[38;5;34m1\u001b[0m)]    │            │ lstm[\u001b[38;5;34m0\u001b[0m][\u001b[38;5;34m1\u001b[0m]        │\n",
              "├─────────────────────┼───────────────────┼────────────┼───────────────────┤\n",
              "│ concatenate_layer   │ (\u001b[38;5;45mNone\u001b[0m, \u001b[38;5;34m40\u001b[0m, \u001b[38;5;34m512\u001b[0m)   │          \u001b[38;5;34m0\u001b[0m │ lstm_1[\u001b[38;5;34m0\u001b[0m][\u001b[38;5;34m0\u001b[0m],     │\n",
              "│ (\u001b[38;5;33mConcatenateLayer\u001b[0m)  │                   │            │ attention[\u001b[38;5;34m0\u001b[0m][\u001b[38;5;34m0\u001b[0m]   │\n",
              "├─────────────────────┼───────────────────┼────────────┼───────────────────┤\n",
              "│ dense_3 (\u001b[38;5;33mDense\u001b[0m)     │ (\u001b[38;5;45mNone\u001b[0m, \u001b[38;5;34m40\u001b[0m, \u001b[38;5;34m5547\u001b[0m)  │  \u001b[38;5;34m2,845,611\u001b[0m │ concatenate_laye… │\n",
              "└─────────────────────┴───────────────────┴────────────┴───────────────────┘\n"
            ],
            "text/html": [
              "<pre style=\"white-space:pre;overflow-x:auto;line-height:normal;font-family:Menlo,'DejaVu Sans Mono',consolas,'Courier New',monospace\">┏━━━━━━━━━━━━━━━━━━━━━┳━━━━━━━━━━━━━━━━━━━┳━━━━━━━━━━━━┳━━━━━━━━━━━━━━━━━━━┓\n",
              "┃<span style=\"font-weight: bold\"> Layer (type)        </span>┃<span style=\"font-weight: bold\"> Output Shape      </span>┃<span style=\"font-weight: bold\">    Param # </span>┃<span style=\"font-weight: bold\"> Connected to      </span>┃\n",
              "┡━━━━━━━━━━━━━━━━━━━━━╇━━━━━━━━━━━━━━━━━━━╇━━━━━━━━━━━━╇━━━━━━━━━━━━━━━━━━━┩\n",
              "│ input_layer_4       │ (<span style=\"color: #00d7ff; text-decoration-color: #00d7ff\">None</span>, <span style=\"color: #00af00; text-decoration-color: #00af00\">37</span>)        │          <span style=\"color: #00af00; text-decoration-color: #00af00\">0</span> │ -                 │\n",
              "│ (<span style=\"color: #0087ff; text-decoration-color: #0087ff\">InputLayer</span>)        │                   │            │                   │\n",
              "├─────────────────────┼───────────────────┼────────────┼───────────────────┤\n",
              "│ input_layer_5       │ (<span style=\"color: #00d7ff; text-decoration-color: #00d7ff\">None</span>, <span style=\"color: #00af00; text-decoration-color: #00af00\">40</span>)        │          <span style=\"color: #00af00; text-decoration-color: #00af00\">0</span> │ -                 │\n",
              "│ (<span style=\"color: #0087ff; text-decoration-color: #0087ff\">InputLayer</span>)        │                   │            │                   │\n",
              "├─────────────────────┼───────────────────┼────────────┼───────────────────┤\n",
              "│ embedding           │ (<span style=\"color: #00d7ff; text-decoration-color: #00d7ff\">None</span>, <span style=\"color: #00af00; text-decoration-color: #00af00\">37</span>, <span style=\"color: #00af00; text-decoration-color: #00af00\">256</span>)   │  <span style=\"color: #00af00; text-decoration-color: #00af00\">1,420,032</span> │ input_layer_4[<span style=\"color: #00af00; text-decoration-color: #00af00\">0</span>]… │\n",
              "│ (<span style=\"color: #0087ff; text-decoration-color: #0087ff\">Embedding</span>)         │                   │            │                   │\n",
              "├─────────────────────┼───────────────────┼────────────┼───────────────────┤\n",
              "│ not_equal           │ (<span style=\"color: #00d7ff; text-decoration-color: #00d7ff\">None</span>, <span style=\"color: #00af00; text-decoration-color: #00af00\">37</span>)        │          <span style=\"color: #00af00; text-decoration-color: #00af00\">0</span> │ input_layer_4[<span style=\"color: #00af00; text-decoration-color: #00af00\">0</span>]… │\n",
              "│ (<span style=\"color: #0087ff; text-decoration-color: #0087ff\">NotEqual</span>)          │                   │            │                   │\n",
              "├─────────────────────┼───────────────────┼────────────┼───────────────────┤\n",
              "│ embedding_1         │ (<span style=\"color: #00d7ff; text-decoration-color: #00d7ff\">None</span>, <span style=\"color: #00af00; text-decoration-color: #00af00\">40</span>, <span style=\"color: #00af00; text-decoration-color: #00af00\">256</span>)   │  <span style=\"color: #00af00; text-decoration-color: #00af00\">1,420,032</span> │ input_layer_5[<span style=\"color: #00af00; text-decoration-color: #00af00\">0</span>]… │\n",
              "│ (<span style=\"color: #0087ff; text-decoration-color: #0087ff\">Embedding</span>)         │                   │            │                   │\n",
              "├─────────────────────┼───────────────────┼────────────┼───────────────────┤\n",
              "│ lstm (<span style=\"color: #0087ff; text-decoration-color: #0087ff\">LSTM</span>)         │ [(<span style=\"color: #00d7ff; text-decoration-color: #00d7ff\">None</span>, <span style=\"color: #00af00; text-decoration-color: #00af00\">37</span>, <span style=\"color: #00af00; text-decoration-color: #00af00\">256</span>), │    <span style=\"color: #00af00; text-decoration-color: #00af00\">525,312</span> │ embedding[<span style=\"color: #00af00; text-decoration-color: #00af00\">0</span>][<span style=\"color: #00af00; text-decoration-color: #00af00\">0</span>],  │\n",
              "│                     │ (<span style=\"color: #00d7ff; text-decoration-color: #00d7ff\">None</span>, <span style=\"color: #00af00; text-decoration-color: #00af00\">256</span>),      │            │ not_equal[<span style=\"color: #00af00; text-decoration-color: #00af00\">0</span>][<span style=\"color: #00af00; text-decoration-color: #00af00\">0</span>]   │\n",
              "│                     │ (<span style=\"color: #00d7ff; text-decoration-color: #00d7ff\">None</span>, <span style=\"color: #00af00; text-decoration-color: #00af00\">256</span>)]      │            │                   │\n",
              "├─────────────────────┼───────────────────┼────────────┼───────────────────┤\n",
              "│ lstm_1 (<span style=\"color: #0087ff; text-decoration-color: #0087ff\">LSTM</span>)       │ [(<span style=\"color: #00d7ff; text-decoration-color: #00d7ff\">None</span>, <span style=\"color: #00af00; text-decoration-color: #00af00\">40</span>, <span style=\"color: #00af00; text-decoration-color: #00af00\">256</span>), │    <span style=\"color: #00af00; text-decoration-color: #00af00\">525,312</span> │ embedding_1[<span style=\"color: #00af00; text-decoration-color: #00af00\">0</span>][<span style=\"color: #00af00; text-decoration-color: #00af00\">0</span>… │\n",
              "│                     │ (<span style=\"color: #00d7ff; text-decoration-color: #00d7ff\">None</span>, <span style=\"color: #00af00; text-decoration-color: #00af00\">256</span>),      │            │ lstm[<span style=\"color: #00af00; text-decoration-color: #00af00\">0</span>][<span style=\"color: #00af00; text-decoration-color: #00af00\">1</span>],       │\n",
              "│                     │ (<span style=\"color: #00d7ff; text-decoration-color: #00d7ff\">None</span>, <span style=\"color: #00af00; text-decoration-color: #00af00\">256</span>)]      │            │ lstm[<span style=\"color: #00af00; text-decoration-color: #00af00\">0</span>][<span style=\"color: #00af00; text-decoration-color: #00af00\">2</span>]        │\n",
              "├─────────────────────┼───────────────────┼────────────┼───────────────────┤\n",
              "│ attention           │ [(<span style=\"color: #00d7ff; text-decoration-color: #00d7ff\">None</span>, <span style=\"color: #00af00; text-decoration-color: #00af00\">256</span>),     │    <span style=\"color: #00af00; text-decoration-color: #00af00\">131,841</span> │ lstm[<span style=\"color: #00af00; text-decoration-color: #00af00\">0</span>][<span style=\"color: #00af00; text-decoration-color: #00af00\">0</span>],       │\n",
              "│ (<span style=\"color: #0087ff; text-decoration-color: #0087ff\">Attention</span>)         │ (<span style=\"color: #00d7ff; text-decoration-color: #00d7ff\">None</span>, <span style=\"color: #00af00; text-decoration-color: #00af00\">37</span>, <span style=\"color: #00af00; text-decoration-color: #00af00\">1</span>)]    │            │ lstm[<span style=\"color: #00af00; text-decoration-color: #00af00\">0</span>][<span style=\"color: #00af00; text-decoration-color: #00af00\">1</span>]        │\n",
              "├─────────────────────┼───────────────────┼────────────┼───────────────────┤\n",
              "│ concatenate_layer   │ (<span style=\"color: #00d7ff; text-decoration-color: #00d7ff\">None</span>, <span style=\"color: #00af00; text-decoration-color: #00af00\">40</span>, <span style=\"color: #00af00; text-decoration-color: #00af00\">512</span>)   │          <span style=\"color: #00af00; text-decoration-color: #00af00\">0</span> │ lstm_1[<span style=\"color: #00af00; text-decoration-color: #00af00\">0</span>][<span style=\"color: #00af00; text-decoration-color: #00af00\">0</span>],     │\n",
              "│ (<span style=\"color: #0087ff; text-decoration-color: #0087ff\">ConcatenateLayer</span>)  │                   │            │ attention[<span style=\"color: #00af00; text-decoration-color: #00af00\">0</span>][<span style=\"color: #00af00; text-decoration-color: #00af00\">0</span>]   │\n",
              "├─────────────────────┼───────────────────┼────────────┼───────────────────┤\n",
              "│ dense_3 (<span style=\"color: #0087ff; text-decoration-color: #0087ff\">Dense</span>)     │ (<span style=\"color: #00d7ff; text-decoration-color: #00d7ff\">None</span>, <span style=\"color: #00af00; text-decoration-color: #00af00\">40</span>, <span style=\"color: #00af00; text-decoration-color: #00af00\">5547</span>)  │  <span style=\"color: #00af00; text-decoration-color: #00af00\">2,845,611</span> │ concatenate_laye… │\n",
              "└─────────────────────┴───────────────────┴────────────┴───────────────────┘\n",
              "</pre>\n"
            ]
          },
          "metadata": {}
        },
        {
          "output_type": "display_data",
          "data": {
            "text/plain": [
              "\u001b[1m Total params: \u001b[0m\u001b[38;5;34m6,868,140\u001b[0m (26.20 MB)\n"
            ],
            "text/html": [
              "<pre style=\"white-space:pre;overflow-x:auto;line-height:normal;font-family:Menlo,'DejaVu Sans Mono',consolas,'Courier New',monospace\"><span style=\"font-weight: bold\"> Total params: </span><span style=\"color: #00af00; text-decoration-color: #00af00\">6,868,140</span> (26.20 MB)\n",
              "</pre>\n"
            ]
          },
          "metadata": {}
        },
        {
          "output_type": "display_data",
          "data": {
            "text/plain": [
              "\u001b[1m Trainable params: \u001b[0m\u001b[38;5;34m6,868,140\u001b[0m (26.20 MB)\n"
            ],
            "text/html": [
              "<pre style=\"white-space:pre;overflow-x:auto;line-height:normal;font-family:Menlo,'DejaVu Sans Mono',consolas,'Courier New',monospace\"><span style=\"font-weight: bold\"> Trainable params: </span><span style=\"color: #00af00; text-decoration-color: #00af00\">6,868,140</span> (26.20 MB)\n",
              "</pre>\n"
            ]
          },
          "metadata": {}
        },
        {
          "output_type": "display_data",
          "data": {
            "text/plain": [
              "\u001b[1m Non-trainable params: \u001b[0m\u001b[38;5;34m0\u001b[0m (0.00 B)\n"
            ],
            "text/html": [
              "<pre style=\"white-space:pre;overflow-x:auto;line-height:normal;font-family:Menlo,'DejaVu Sans Mono',consolas,'Courier New',monospace\"><span style=\"font-weight: bold\"> Non-trainable params: </span><span style=\"color: #00af00; text-decoration-color: #00af00\">0</span> (0.00 B)\n",
              "</pre>\n"
            ]
          },
          "metadata": {}
        },
        {
          "output_type": "stream",
          "name": "stdout",
          "text": [
            "Epoch 1/10\n",
            "\u001b[1m63/63\u001b[0m \u001b[32m━━━━━━━━━━━━━━━━━━━━\u001b[0m\u001b[37m\u001b[0m \u001b[1m7s\u001b[0m 52ms/step - loss: 4.8152 - val_loss: 2.1370\n",
            "Epoch 2/10\n",
            "\u001b[1m63/63\u001b[0m \u001b[32m━━━━━━━━━━━━━━━━━━━━\u001b[0m\u001b[37m\u001b[0m \u001b[1m3s\u001b[0m 48ms/step - loss: 2.0743 - val_loss: 2.0541\n",
            "Epoch 3/10\n",
            "\u001b[1m63/63\u001b[0m \u001b[32m━━━━━━━━━━━━━━━━━━━━\u001b[0m\u001b[37m\u001b[0m \u001b[1m3s\u001b[0m 51ms/step - loss: 2.0014 - val_loss: 2.0010\n",
            "Epoch 4/10\n",
            "\u001b[1m63/63\u001b[0m \u001b[32m━━━━━━━━━━━━━━━━━━━━\u001b[0m\u001b[37m\u001b[0m \u001b[1m3s\u001b[0m 45ms/step - loss: 1.9343 - val_loss: 1.9388\n",
            "Epoch 5/10\n",
            "\u001b[1m63/63\u001b[0m \u001b[32m━━━━━━━━━━━━━━━━━━━━\u001b[0m\u001b[37m\u001b[0m \u001b[1m3s\u001b[0m 44ms/step - loss: 1.8309 - val_loss: 1.8706\n",
            "Epoch 6/10\n",
            "\u001b[1m63/63\u001b[0m \u001b[32m━━━━━━━━━━━━━━━━━━━━\u001b[0m\u001b[37m\u001b[0m \u001b[1m3s\u001b[0m 43ms/step - loss: 1.7424 - val_loss: 1.7995\n",
            "Epoch 7/10\n",
            "\u001b[1m63/63\u001b[0m \u001b[32m━━━━━━━━━━━━━━━━━━━━\u001b[0m\u001b[37m\u001b[0m \u001b[1m3s\u001b[0m 45ms/step - loss: 1.6519 - val_loss: 1.7172\n",
            "Epoch 8/10\n",
            "\u001b[1m63/63\u001b[0m \u001b[32m━━━━━━━━━━━━━━━━━━━━\u001b[0m\u001b[37m\u001b[0m \u001b[1m3s\u001b[0m 46ms/step - loss: 1.5220 - val_loss: 1.6488\n",
            "Epoch 9/10\n",
            "\u001b[1m63/63\u001b[0m \u001b[32m━━━━━━━━━━━━━━━━━━━━\u001b[0m\u001b[37m\u001b[0m \u001b[1m3s\u001b[0m 43ms/step - loss: 1.4218 - val_loss: 1.5828\n",
            "Epoch 10/10\n",
            "\u001b[1m63/63\u001b[0m \u001b[32m━━━━━━━━━━━━━━━━━━━━\u001b[0m\u001b[37m\u001b[0m \u001b[1m5s\u001b[0m 45ms/step - loss: 1.3354 - val_loss: 1.5307\n",
            "Training Time: 35.91s\n"
          ]
        },
        {
          "output_type": "display_data",
          "data": {
            "text/plain": [
              "<Figure size 640x480 with 1 Axes>"
            ],
            "image/png": "[encoded data removed]"
          },
          "metadata": {}
        },
        {
          "output_type": "stream",
          "name": "stderr",
          "text": [
            "[nltk_data] Downloading package wordnet to /root/nltk_data...\n",
            "[nltk_data]   Package wordnet is already up-to-date!\n",
            "[nltk_data] Downloading package omw-1.4 to /root/nltk_data...\n",
            "[nltk_data]   Package omw-1.4 is already up-to-date!\n"
          ]
        },
        {
          "output_type": "stream",
          "name": "stdout",
          "text": [
            "Avg BLEU:     0.0328\n",
            "Avg ROUGE-L:  0.1984\n",
            "Avg METEOR:   0.1443\n"
          ]
        }
      ],
      "source": [
        "# 🧹 Extract sentence pairs\n",
        "pairs = []\n",
        "for _, row in df.iterrows():\n",
        "    src = row['text']\n",
        "    for tgt in row['paraphrases']:\n",
        "        pairs.append((src, tgt))\n",
        "print(len(pairs))\n",
        "pairs = pairs[:5000]\n",
        "\n",
        "# 🧪 Train-validation split\n",
        "train_pairs, val_pairs = train_test_split(pairs, test_size=0.2, random_state=42)\n",
        "train_src = [p[0] for p in train_pairs]\n",
        "train_tgt = [p[1] for p in train_pairs]\n",
        "val_src = [p[0] for p in val_pairs]\n",
        "val_tgt = [p[1] for p in val_pairs]\n",
        "\n",
        "# 🔠 Tokenization\n",
        "tokenizer = Tokenizer(oov_token=\"<unk>\")\n",
        "tokenizer.fit_on_texts(train_src + train_tgt)\n",
        "vocab_size = len(tokenizer.word_index) + 1\n",
        "\n",
        "train_src_seq = tokenizer.texts_to_sequences(train_src)\n",
        "train_tgt_seq = tokenizer.texts_to_sequences(train_tgt)\n",
        "val_src_seq = tokenizer.texts_to_sequences(val_src)\n",
        "val_tgt_seq = tokenizer.texts_to_sequences(val_tgt)\n",
        "\n",
        "# Add <sos> and <eos>\n",
        "sos = vocab_size\n",
        "eos = vocab_size + 1\n",
        "tokenizer.word_index['<sos>'] = sos\n",
        "tokenizer.word_index['<eos>'] = eos\n",
        "vocab_size += 2\n",
        "\n",
        "def add_sos_eos(seq): return [sos] + seq + [eos]\n",
        "train_tgt_seq = [add_sos_eos(s) for s in train_tgt_seq]\n",
        "val_tgt_seq = [add_sos_eos(s) for s in val_tgt_seq]\n",
        "\n",
        "# 🧱 Padding\n",
        "max_src_len = max(len(s) for s in train_src_seq)\n",
        "max_tgt_len = max(len(s) for s in train_tgt_seq)\n",
        "train_src_seq = pad_sequences(train_src_seq, maxlen=max_src_len, padding='post')\n",
        "train_tgt_seq = pad_sequences(train_tgt_seq, maxlen=max_tgt_len, padding='post')\n",
        "val_src_seq = pad_sequences(val_src_seq, maxlen=max_src_len, padding='post')\n",
        "val_tgt_seq = pad_sequences(val_tgt_seq, maxlen=max_tgt_len, padding='post')\n",
        "\n",
        "# 🔁 Decoder input/output\n",
        "decoder_input_train = train_tgt_seq[:, :-1]\n",
        "decoder_target_train = train_tgt_seq[:, 1:]\n",
        "decoder_input_val = val_tgt_seq[:, :-1]\n",
        "decoder_target_val = val_tgt_seq[:, 1:]\n",
        "\n",
        "# 🔑 Attention Layer\n",
        "class Attention(tf.keras.layers.Layer):\n",
        "    def __init__(self, units):\n",
        "        super().__init__()\n",
        "        self.W1 = tf.keras.layers.Dense(units)\n",
        "        self.W2 = tf.keras.layers.Dense(units)\n",
        "        self.V = tf.keras.layers.Dense(1)\n",
        "\n",
        "    def call(self, encoder_output, decoder_state):\n",
        "        decoder_state_exp = tf.expand_dims(decoder_state, 1)\n",
        "        score = self.V(tf.nn.tanh(self.W1(encoder_output) + self.W2(decoder_state_exp)))\n",
        "        attention_weights = tf.nn.softmax(score, axis=1)\n",
        "        context_vector = attention_weights * encoder_output\n",
        "        context_vector = tf.reduce_sum(context_vector, axis=1)\n",
        "        return context_vector, attention_weights\n",
        "\n",
        "# 🧠 Model setup\n",
        "latent_dim = 256\n",
        "\n",
        "# Encoder\n",
        "encoder_inputs = tf.keras.Input(shape=(max_src_len,))\n",
        "enc_emb = tf.keras.layers.Embedding(vocab_size, latent_dim, mask_zero=True)(encoder_inputs)\n",
        "encoder_lstm = tf.keras.layers.LSTM(latent_dim, return_sequences=True, return_state=True)\n",
        "encoder_output, state_h, state_c = encoder_lstm(enc_emb)\n",
        "\n",
        "# Attention\n",
        "attention = Attention(units=latent_dim)\n",
        "context_vector, _ = attention(encoder_output, state_h)\n",
        "\n",
        "# Decoder\n",
        "decoder_inputs = tf.keras.Input(shape=(max_tgt_len - 1,))\n",
        "dec_emb = tf.keras.layers.Embedding(vocab_size, latent_dim, mask_zero=True)\n",
        "dec_emb_output = dec_emb(decoder_inputs)\n",
        "decoder_lstm = tf.keras.layers.LSTM(latent_dim, return_sequences=True, return_state=True)\n",
        "decoder_output, _, _ = decoder_lstm(dec_emb_output, initial_state=[state_h, state_c])\n",
        "\n",
        "# Context concatenation\n",
        "class ConcatenateLayer(tf.keras.layers.Layer):\n",
        "    def call(self, inputs):\n",
        "        dec_out, context = inputs\n",
        "        context_exp = tf.expand_dims(context, 1)\n",
        "        context_exp = tf.repeat(context_exp, tf.shape(dec_out)[1], axis=1)\n",
        "        return tf.concat([dec_out, context_exp], axis=-1)\n",
        "\n",
        "concatenate_layer = ConcatenateLayer()\n",
        "decoder_combined_context = concatenate_layer([decoder_output, context_vector])\n",
        "\n",
        "# Output\n",
        "decoder_dense = tf.keras.layers.Dense(vocab_size, activation='softmax')\n",
        "decoder_outputs = decoder_dense(decoder_combined_context)\n",
        "\n",
        "# Model\n",
        "model = tf.keras.Model([encoder_inputs, decoder_inputs], decoder_outputs)\n",
        "model.compile(optimizer='adam', loss='sparse_categorical_crossentropy')\n",
        "model.summary()\n",
        "\n",
        "# Training\n",
        "start = time.time()\n",
        "history = model.fit(\n",
        "    [train_src_seq, decoder_input_train],\n",
        "    decoder_target_train[..., np.newaxis],\n",
        "    validation_data=([val_src_seq, decoder_input_val], decoder_target_val[..., np.newaxis]),\n",
        "    batch_size=64,\n",
        "    epochs=10\n",
        ")\n",
        "print(f\"Training Time: {time.time() - start:.2f}s\")\n",
        "\n",
        "# 📉 Plot history\n",
        "plt.plot(history.history['loss'], label='Train')\n",
        "plt.plot(history.history['val_loss'], label='Val')\n",
        "plt.xlabel('Epochs'); plt.ylabel('Loss'); plt.legend(); plt.show()\n",
        "\n",
        "# 🔍 Inference setup\n",
        "encoder_model = tf.keras.Model(encoder_inputs, [encoder_output, state_h, state_c])\n",
        "\n",
        "# Decoder inference inputs\n",
        "dec_state_input_h = tf.keras.Input(shape=(latent_dim,))\n",
        "dec_state_input_c = tf.keras.Input(shape=(latent_dim,))\n",
        "enc_output_input = tf.keras.Input(shape=(max_src_len, latent_dim))\n",
        "dec_input = tf.keras.Input(shape=(1,))\n",
        "dec_emb_inf = dec_emb(dec_input)\n",
        "dec_lstm_out, h, c = decoder_lstm(dec_emb_inf, initial_state=[dec_state_input_h, dec_state_input_c])\n",
        "context_inf, att_weights_inf = attention(enc_output_input, h)\n",
        "dec_context_comb = concatenate_layer([dec_lstm_out, context_inf])\n",
        "dec_out = decoder_dense(dec_context_comb)\n",
        "\n",
        "decoder_model = tf.keras.Model(\n",
        "    [dec_input, enc_output_input, dec_state_input_h, dec_state_input_c],\n",
        "    [dec_out, h, c, att_weights_inf]\n",
        ")\n",
        "\n",
        "# Index reverse\n",
        "reverse_word_index = {v: k for k, v in tokenizer.word_index.items()}\n",
        "\n",
        "# Decode function\n",
        "def decode_sequence_with_attention(input_seq):\n",
        "    enc_out, h, c = encoder_model.predict(input_seq, verbose=0)\n",
        "    target_seq = np.array([[sos]])\n",
        "    decoded_sentence = []\n",
        "    for _ in range(max_tgt_len):\n",
        "        output_tokens, h, c, _ = decoder_model.predict([target_seq, enc_out, h, c], verbose=0)\n",
        "        sampled_token = np.argmax(output_tokens[0, -1, :])\n",
        "        if sampled_token == eos:\n",
        "            break\n",
        "        word = reverse_word_index.get(sampled_token, '<unk>')\n",
        "        decoded_sentence.append(word)\n",
        "        target_seq = np.array([[sampled_token]])\n",
        "    return ' '.join(decoded_sentence)\n",
        "\n",
        "# 📏 Evaluation\n",
        "nltk.download('wordnet')\n",
        "nltk.download('omw-1.4')\n",
        "scorer = rouge_scorer.RougeScorer(['rougeL'], use_stemmer=True)\n",
        "smoothie = SmoothingFunction().method4\n",
        "bleu_scores, rouge_scores, meteor_scores = [], [], []\n",
        "\n",
        "for i, src in enumerate(val_src_seq[:100]):\n",
        "    ref = val_tgt[i].split()\n",
        "    cand = decode_sequence_with_attention(src.reshape(1, -1)).split()\n",
        "    bleu_scores.append(sentence_bleu([ref], cand, smoothing_function=smoothie))\n",
        "    meteor_scores.append(single_meteor_score(ref, cand))\n",
        "    rouge_scores.append(scorer.score(' '.join(ref), ' '.join(cand))['rougeL'].fmeasure)\n",
        "\n",
        "print(f\"Avg BLEU:     {np.mean(bleu_scores):.4f}\")\n",
        "print(f\"Avg ROUGE-L:  {np.mean(rouge_scores):.4f}\")\n",
        "print(f\"Avg METEOR:   {np.mean(meteor_scores):.4f}\")\n"
      ]
    },
    {
      "cell_type": "code",
      "source": [
        "for i in range(5):\n",
        "    print(f\"Input: {val_src[i]}\")\n",
        "    print(f\"Reference: {val_tgt[i]}\")\n",
        "    print(f\"Generated: {decode_sequence_with_attention(val_src_seq[i].reshape(1, -1))}\")\n",
        "    print(\"-\" * 50)\n"
      ],
      "metadata": {
        "id": "3SBDA1cQMjT3",
        "colab": {
          "base_uri": "https://localhost:8080/"
        },
        "outputId": "25e2e5ce-c63a-472e-d6fa-e8b53fa31c3e"
      },
      "execution_count": null,
      "outputs": [
        {
          "output_type": "stream",
          "name": "stdout",
          "text": [
            "Input: How can we acquire a positive morality?\n",
            "Reference: In what ways can we cultivate a moral compass that is positive?\n",
            "Generated: what are some ways to become a business of a business\n",
            "--------------------------------------------------\n",
            "Input: What are scraping techniques?\n",
            "Reference: Can you explain the concept of scraping techniques?\n",
            "Generated: what is the reason behind the mahabharata of the bss\n",
            "--------------------------------------------------\n",
            "Input: How do I register institute providing training in various programming languages for vocational courses as it will exempt it from the service tax?\n",
            "Reference: What are the requirements for an institute that provides training in various programming languages for vocational courses to register and be exempt from service tax?\n",
            "Generated: what are some ways to make a best for ssc and banking and what are the most process\n",
            "--------------------------------------------------\n",
            "Input: How headphones work as an Antenna to play FM radio channels on Mobile phones? Why mobile companies doesn't install the same inbuilt Antenna on phones to be able to play FM without the headphones?\n",
            "Reference: What is the mechanism behind using headphones as an antenna to access FM radio channels on mobile phones? Why don't mobile manufacturers incorporate an inbuilt antenna to enable FM playback without headphones?\n",
            "Generated: is it possible to a muslim church of a secret woman in the same of the same of the same of the same of the same of the same of the same of the same\n",
            "--------------------------------------------------\n",
            "Input: What are good websites for escorts?\n",
            "Reference: Which websites are recommended for finding escorts?\n",
            "Generated: what are some ways to become the most business\n",
            "--------------------------------------------------\n"
          ]
        }
      ]
    },
    {
      "cell_type": "markdown",
      "source": [
        "### **Paraphrase Generator using Encoder-Decoder (with Self-Attention)**\n",
        "\n",
        "#### **Overview of the Encoder-Decoder Architecture with Self-Attention:**\n",
        "\n",
        "The **Encoder-Decoder** architecture is the foundation of sequence-to-sequence (Seq2Seq) models. In traditional Seq2Seq models, the encoder processes the input sequence, and the decoder generates the output sequence. However, a **Transformer-based model** uses a self-attention mechanism, which helps it capture long-range dependencies and relationships in the input and output sequences.\n",
        "\n",
        "---\n",
        "\n",
        "#### **Key Components:**\n",
        "#### 1. Self-Attention:\n",
        "#### 2. Multi-Head Attention:\n",
        "#### 3. Positional Encoding:\n",
        "#### 4. Layer Normalization:\n",
        "#### 5. Feed-Forward Networks:\n",
        "---\n",
        "\n"
      ],
      "metadata": {
        "id": "FhKFYfBabyR-"
      }
    },
    {
      "cell_type": "code",
      "source": [
        "# Self-Attention Paraphrase Generation with Evaluation\n",
        "\n",
        "# Step 1: Import Required Libraries\n",
        "import numpy as np\n",
        "import pandas as pd\n",
        "import tensorflow as tf\n",
        "from tensorflow.keras import layers, models\n",
        "from sklearn.model_selection import train_test_split\n",
        "import ast\n",
        "import matplotlib.pyplot as plt\n",
        "import time\n",
        "import nltk\n",
        "from nltk.translate.bleu_score import sentence_bleu, SmoothingFunction\n",
        "from nltk.translate.meteor_score import meteor_score\n",
        "from rouge_score import rouge_scorer\n",
        "\n",
        "# Ensure necessary NLTK data is downloaded\n",
        "nltk.download('wordnet')\n",
        "nltk.download('omw-1.4')\n",
        "\n",
        "# Step 2: Load and Preprocess Dataset\n",
        "df = pd.read_csv(\"/content/sample_data/chatgpt_paraphrases.csv\", engine=\"python\", on_bad_lines=\"skip\")\n",
        "#df = df[:5000]\n",
        "df['paraphrases'] = df['paraphrases'].apply(ast.literal_eval)\n",
        "\n",
        "pairs = []\n",
        "for _, row in df.iterrows():\n",
        "    src = row['text']\n",
        "    for tgt in row['paraphrases']:\n",
        "        pairs.append((src, tgt))\n",
        "pairs = pairs[:5000]\n",
        "\n",
        "train_pairs, val_pairs = train_test_split(pairs, test_size=0.2, random_state=42)\n",
        "train_src = [p[0] for p in train_pairs]\n",
        "train_tgt = [p[1] for p in train_pairs]\n",
        "val_src   = [p[0] for p in val_pairs]\n",
        "val_tgt   = [p[1] for p in val_pairs]\n",
        "\n",
        "# Step 3: Tokenization\n",
        "from tensorflow.keras.preprocessing.text import Tokenizer\n",
        "from tensorflow.keras.preprocessing.sequence import pad_sequences\n",
        "\n",
        "src_tokenizer = Tokenizer(filters='')\n",
        "tgt_tokenizer = Tokenizer(filters='')\n",
        "\n",
        "src_tokenizer.fit_on_texts(train_src + val_src)\n",
        "tgt_tokenizer.fit_on_texts(train_tgt + val_tgt)\n",
        "\n",
        "train_src_seq = src_tokenizer.texts_to_sequences(train_src)\n",
        "train_tgt_seq = tgt_tokenizer.texts_to_sequences(train_tgt)\n",
        "val_src_seq = src_tokenizer.texts_to_sequences(val_src)\n",
        "val_tgt_seq = tgt_tokenizer.texts_to_sequences(val_tgt)\n",
        "\n",
        "max_src_len = max(len(seq) for seq in train_src_seq)\n",
        "max_tgt_len = max(len(seq) for seq in train_tgt_seq)\n",
        "\n",
        "max_seq_len = max(max_src_len, max_tgt_len)\n",
        "\n",
        "train_src_seq = pad_sequences(train_src_seq, maxlen=max_seq_len, padding='post')\n",
        "train_tgt_seq = pad_sequences(train_tgt_seq, maxlen=max_seq_len, padding='post')\n",
        "val_src_seq = pad_sequences(val_src_seq, maxlen=max_seq_len, padding='post')\n",
        "val_tgt_seq = pad_sequences(val_tgt_seq, maxlen=max_seq_len, padding='post')\n",
        "\n",
        "\n",
        "# Step 4: Define the Transformer Model\n",
        "def get_positional_encoding(max_len, dm):\n",
        "    pos = np.arange(max_len)[:, np.newaxis]\n",
        "    i = np.arange(dm)[np.newaxis, :]\n",
        "    angle_rates = 1 / np.power(10000, (2 * (i // 2)) / np.float32(dm))\n",
        "    angle_rads = pos * angle_rates\n",
        "    angle_rads[:, 0::2] = np.sin(angle_rads[:, 0::2])\n",
        "    angle_rads[:, 1::2] = np.cos(angle_rads[:, 1::2])\n",
        "    pos_encoding = angle_rads[np.newaxis, ...]\n",
        "    return tf.cast(pos_encoding, dtype=tf.float32)\n",
        "\n",
        "class MultiHeadAttention(layers.Layer):\n",
        "    def __init__(self, d_model, num_heads):\n",
        "        super().__init__()\n",
        "        assert d_model % num_heads == 0\n",
        "        self.num_heads = num_heads\n",
        "        self.depth = d_model // num_heads\n",
        "        self.wq = layers.Dense(d_model)\n",
        "        self.wk = layers.Dense(d_model)\n",
        "        self.wv = layers.Dense(d_model)\n",
        "        self.dense = layers.Dense(d_model)\n",
        "\n",
        "    def split_heads(self, x, batch_size):\n",
        "        x = tf.reshape(x, (batch_size, -1, self.num_heads, self.depth))\n",
        "        return tf.transpose(x, perm=[0, 2, 1, 3])\n",
        "\n",
        "    def call(self, v, k, q, mask=None):\n",
        "        batch_size = tf.shape(q)[0]\n",
        "        q = self.wq(q)\n",
        "        k = self.wk(k)\n",
        "        v = self.wv(v)\n",
        "        q = self.split_heads(q, batch_size)\n",
        "        k = self.split_heads(k, batch_size)\n",
        "        v = self.split_heads(v, batch_size)\n",
        "        matmul_qk = tf.matmul(q, k, transpose_b=True)\n",
        "        dk = tf.cast(tf.shape(k)[-1], tf.float32)\n",
        "        scaled_scores = matmul_qk / tf.math.sqrt(dk)\n",
        "        if mask is not None:\n",
        "            scaled_scores += (mask * -1e9)\n",
        "        weights = tf.nn.softmax(scaled_scores, axis=-1)\n",
        "        output = tf.matmul(weights, v)\n",
        "        output = tf.transpose(output, perm=[0, 2, 1, 3])\n",
        "        concat_attention = tf.reshape(output, (batch_size, -1, self.num_heads * self.depth))\n",
        "        output = self.dense(concat_attention)\n",
        "        return output, weights\n",
        "\n",
        "def point_wise_feed_forward(d_model, dff):\n",
        "    return tf.keras.Sequential([\n",
        "        layers.Dense(dff, activation='relu'),\n",
        "        layers.Dense(d_model)\n",
        "    ])\n",
        "\n",
        "class EncoderLayer(layers.Layer):\n",
        "    def __init__(self, d_model, num_heads, dff, dropout=0.1):\n",
        "        super().__init__()\n",
        "        self.mha = MultiHeadAttention(d_model, num_heads)\n",
        "        self.ffn = point_wise_feed_forward(d_model, dff)\n",
        "        self.layernorm1 = layers.LayerNormalization(epsilon=1e-6)\n",
        "        self.layernorm2 = layers.LayerNormalization(epsilon=1e-6)\n",
        "        self.dropout1 = layers.Dropout(dropout)\n",
        "        self.dropout2 = layers.Dropout(dropout)\n",
        "\n",
        "    def call(self, x, mask=None):\n",
        "        attn_output, _ = self.mha(x, x, x, mask)\n",
        "        attn_output = self.dropout1(attn_output)\n",
        "        out1 = self.layernorm1(x + attn_output)\n",
        "        ffn_output = self.ffn(out1)\n",
        "        ffn_output = self.dropout2(ffn_output)\n",
        "        return self.layernorm2(out1 + ffn_output)\n",
        "\n",
        "class DecoderLayer(layers.Layer):\n",
        "    def __init__(self, d_model, num_heads, dff, dropout=0.1):\n",
        "        super().__init__()\n",
        "        self.mha1 = MultiHeadAttention(d_model, num_heads)\n",
        "        self.mha2 = MultiHeadAttention(d_model, num_heads)\n",
        "        self.ffn = point_wise_feed_forward(d_model, dff)\n",
        "        self.layernorm1 = layers.LayerNormalization(epsilon=1e-6)\n",
        "        self.layernorm2 = layers.LayerNormalization(epsilon=1e-6)\n",
        "        self.layernorm3 = layers.LayerNormalization(epsilon=1e-6)\n",
        "        self.dropout1 = layers.Dropout(dropout)\n",
        "        self.dropout2 = layers.Dropout(dropout)\n",
        "        self.dropout3 = layers.Dropout(dropout)\n",
        "\n",
        "    def call(self, x, enc_output, look_ahead_mask=None, padding_mask=None):\n",
        "        attn1, _ = self.mha1(x, x, x, look_ahead_mask)\n",
        "        attn1 = self.dropout1(attn1)\n",
        "        out1 = self.layernorm1(x + attn1)\n",
        "        attn2, attn_weights = self.mha2(enc_output, enc_output, out1, padding_mask)\n",
        "        attn2 = self.dropout2(attn2)\n",
        "        out2 = self.layernorm2(out1 + attn2)\n",
        "        ffn_output = self.ffn(out2)\n",
        "        ffn_output = self.dropout3(ffn_output)\n",
        "        out3 = self.layernorm3(out2 + ffn_output)\n",
        "        return out3, attn_weights\n",
        "\n",
        "# For simplicity, using a basic Sequential model as a placeholder\n",
        "input_shape = (max_src_len,)\n",
        "output_shape = (max_tgt_len,)\n",
        "input_shape = (max_seq_len,)\n",
        "transformer_model = models.Sequential([\n",
        "    layers.Input(shape=input_shape),\n",
        "    layers.Embedding(input_dim=len(src_tokenizer.word_index)+1, output_dim=128),\n",
        "    layers.LSTM(128, return_sequences=True),\n",
        "    layers.Dense(len(tgt_tokenizer.word_index)+1, activation='softmax')\n",
        "])\n",
        "transformer_model.compile(optimizer='adam', loss='sparse_categorical_crossentropy', metrics=['accuracy'])\n",
        "transformer_model.summary()\n",
        "# Step 5: Training\n",
        "start_time = time.time()\n",
        "history = transformer_model.fit(\n",
        "    train_src_seq, np.expand_dims(train_tgt_seq, -1),\n",
        "    epochs=10,\n",
        "    batch_size=32,\n",
        "    validation_data=(val_src_seq, np.expand_dims(val_tgt_seq, -1))\n",
        ")\n",
        "end_time = time.time()\n",
        "print(f\"Training Time: {(end_time - start_time)/60:.2f} minutes\")\n",
        "\n",
        "# Step 6: Evaluation\n",
        "def decode_sequence(seq, tokenizer):\n",
        "    reverse_index = {v: k for k, v in tokenizer.word_index.items()}\n",
        "    return [reverse_index.get(i, '') for i in seq if i != 0]\n",
        "\n",
        "# Generate predictions\n",
        "preds = transformer_model.predict(val_src_seq)\n",
        "preds_seq = np.argmax(preds, axis=-1)\n",
        "\n",
        "decoded_refs = [\" \".join(decode_sequence(seq, tgt_tokenizer)) for seq in val_tgt_seq]\n",
        "decoded_preds = [\" \".join(decode_sequence(seq, tgt_tokenizer)) for seq in preds_seq]\n",
        "\n",
        "# BLEU Score\n",
        "smoothie = SmoothingFunction().method4\n",
        "bleu_scores = [\n",
        "    sentence_bleu([ref.split()], pred.split(), smoothing_function=smoothie)\n",
        "    for ref, pred in zip(decoded_refs, decoded_preds)\n",
        "]\n",
        "bleu_avg = sum(bleu_scores) / len(bleu_scores)\n",
        "print(f\"BLEU Score: {bleu_avg:.4f}\")\n",
        "\n",
        "# ROUGE Score\n",
        "scorer = rouge_scorer.RougeScorer(['rouge1', 'rougeL'], use_stemmer=True)\n",
        "rouge1_list, rougeL_list = [], []\n",
        "for ref, pred in zip(decoded_refs, decoded_preds):\n",
        "    scores = scorer.score(ref, pred)\n",
        "    rouge1_list.append(scores['rouge1'].fmeasure)\n",
        "    rougeL_list.append(scores['rougeL'].fmeasure)\n",
        "rouge1_avg = sum(rouge1_list) / len(rouge1_list)\n",
        "rougeL_avg = sum(rougeL_list) / len(rougeL_list)\n",
        "print(f\"ROUGE-1: {rouge1_avg:.4f}\")\n",
        "print(f\"ROUGE-L: {rougeL_avg:.4f}\")\n",
        "\n",
        "# METEOR Score\n",
        "meteor_scores = [\n",
        "    meteor_score([ref.split()], pred.split())\n",
        "    for ref, pred in zip(decoded_refs, decoded_preds)\n",
        "]\n",
        "meteor_avg = sum(meteor_scores) / len(meteor_scores)\n",
        "print(f\"METEOR Score: {meteor_avg:.4f}\")\n",
        "\n",
        "\n",
        "# Plot training & validation accuracy and loss\n",
        "plt.figure(figsize=(12, 4))\n",
        "\n",
        "# Accuracy\n",
        "plt.subplot(1, 2, 1)\n",
        "plt.plot(history.history['accuracy'], label='Train Accuracy')\n",
        "plt.plot(history.history['val_accuracy'], label='Val Accuracy')\n",
        "plt.title('Model Accuracy')\n",
        "plt.xlabel('Epoch')\n",
        "plt.ylabel('Accuracy')\n",
        "plt.legend()\n",
        "\n",
        "# Loss\n",
        "plt.subplot(1, 2, 2)\n",
        "plt.plot(history.history['loss'], label='Train Loss')\n",
        "plt.plot(history.history['val_loss'], label='Val Loss')\n",
        "plt.title('Model Loss')\n",
        "plt.xlabel('Epoch')\n",
        "plt.ylabel('Loss')\n",
        "plt.legend()\n",
        "\n",
        "plt.tight_layout()\n",
        "plt.show()\n",
        "\n"
      ],
      "metadata": {
        "colab": {
          "base_uri": "https://localhost:8080/",
          "height": 1000
        },
        "id": "2YFXdSinVWs7",
        "outputId": "06d35155-3199-4fb6-9d1f-77bf81bfe4f7"
      },
      "execution_count": null,
      "outputs": [
        {
          "output_type": "stream",
          "name": "stderr",
          "text": [
            "[nltk_data] Downloading package wordnet to /root/nltk_data...\n",
            "[nltk_data]   Package wordnet is already up-to-date!\n",
            "[nltk_data] Downloading package omw-1.4 to /root/nltk_data...\n",
            "[nltk_data]   Package omw-1.4 is already up-to-date!\n"
          ]
        },
        {
          "output_type": "display_data",
          "data": {
            "text/plain": [
              "\u001b[1mModel: \"sequential\"\u001b[0m\n"
            ],
            "text/html": [
              "<pre style=\"white-space:pre;overflow-x:auto;line-height:normal;font-family:Menlo,'DejaVu Sans Mono',consolas,'Courier New',monospace\"><span style=\"font-weight: bold\">Model: \"sequential\"</span>\n",
              "</pre>\n"
            ]
          },
          "metadata": {}
        },
        {
          "output_type": "display_data",
          "data": {
            "text/plain": [
              "┏━━━━━━━━━━━━━━━━━━━━━━━━━━━━━━━━━┳━━━━━━━━━━━━━━━━━━━━━━━━┳━━━━━━━━━━━━━━━┓\n",
              "┃\u001b[1m \u001b[0m\u001b[1mLayer (type)                   \u001b[0m\u001b[1m \u001b[0m┃\u001b[1m \u001b[0m\u001b[1mOutput Shape          \u001b[0m\u001b[1m \u001b[0m┃\u001b[1m \u001b[0m\u001b[1m      Param #\u001b[0m\u001b[1m \u001b[0m┃\n",
              "┡━━━━━━━━━━━━━━━━━━━━━━━━━━━━━━━━━╇━━━━━━━━━━━━━━━━━━━━━━━━╇━━━━━━━━━━━━━━━┩\n",
              "│ embedding_2 (\u001b[38;5;33mEmbedding\u001b[0m)         │ (\u001b[38;5;45mNone\u001b[0m, \u001b[38;5;34m39\u001b[0m, \u001b[38;5;34m128\u001b[0m)        │       \u001b[38;5;34m435,200\u001b[0m │\n",
              "├─────────────────────────────────┼────────────────────────┼───────────────┤\n",
              "│ lstm_2 (\u001b[38;5;33mLSTM\u001b[0m)                   │ (\u001b[38;5;45mNone\u001b[0m, \u001b[38;5;34m39\u001b[0m, \u001b[38;5;34m128\u001b[0m)        │       \u001b[38;5;34m131,584\u001b[0m │\n",
              "├─────────────────────────────────┼────────────────────────┼───────────────┤\n",
              "│ dense_4 (\u001b[38;5;33mDense\u001b[0m)                 │ (\u001b[38;5;45mNone\u001b[0m, \u001b[38;5;34m39\u001b[0m, \u001b[38;5;34m7351\u001b[0m)       │       \u001b[38;5;34m948,279\u001b[0m │\n",
              "└─────────────────────────────────┴────────────────────────┴───────────────┘\n"
            ],
            "text/html": [
              "<pre style=\"white-space:pre;overflow-x:auto;line-height:normal;font-family:Menlo,'DejaVu Sans Mono',consolas,'Courier New',monospace\">┏━━━━━━━━━━━━━━━━━━━━━━━━━━━━━━━━━┳━━━━━━━━━━━━━━━━━━━━━━━━┳━━━━━━━━━━━━━━━┓\n",
              "┃<span style=\"font-weight: bold\"> Layer (type)                    </span>┃<span style=\"font-weight: bold\"> Output Shape           </span>┃<span style=\"font-weight: bold\">       Param # </span>┃\n",
              "┡━━━━━━━━━━━━━━━━━━━━━━━━━━━━━━━━━╇━━━━━━━━━━━━━━━━━━━━━━━━╇━━━━━━━━━━━━━━━┩\n",
              "│ embedding_2 (<span style=\"color: #0087ff; text-decoration-color: #0087ff\">Embedding</span>)         │ (<span style=\"color: #00d7ff; text-decoration-color: #00d7ff\">None</span>, <span style=\"color: #00af00; text-decoration-color: #00af00\">39</span>, <span style=\"color: #00af00; text-decoration-color: #00af00\">128</span>)        │       <span style=\"color: #00af00; text-decoration-color: #00af00\">435,200</span> │\n",
              "├─────────────────────────────────┼────────────────────────┼───────────────┤\n",
              "│ lstm_2 (<span style=\"color: #0087ff; text-decoration-color: #0087ff\">LSTM</span>)                   │ (<span style=\"color: #00d7ff; text-decoration-color: #00d7ff\">None</span>, <span style=\"color: #00af00; text-decoration-color: #00af00\">39</span>, <span style=\"color: #00af00; text-decoration-color: #00af00\">128</span>)        │       <span style=\"color: #00af00; text-decoration-color: #00af00\">131,584</span> │\n",
              "├─────────────────────────────────┼────────────────────────┼───────────────┤\n",
              "│ dense_4 (<span style=\"color: #0087ff; text-decoration-color: #0087ff\">Dense</span>)                 │ (<span style=\"color: #00d7ff; text-decoration-color: #00d7ff\">None</span>, <span style=\"color: #00af00; text-decoration-color: #00af00\">39</span>, <span style=\"color: #00af00; text-decoration-color: #00af00\">7351</span>)       │       <span style=\"color: #00af00; text-decoration-color: #00af00\">948,279</span> │\n",
              "└─────────────────────────────────┴────────────────────────┴───────────────┘\n",
              "</pre>\n"
            ]
          },
          "metadata": {}
        },
        {
          "output_type": "display_data",
          "data": {
            "text/plain": [
              "\u001b[1m Total params: \u001b[0m\u001b[38;5;34m1,515,063\u001b[0m (5.78 MB)\n"
            ],
            "text/html": [
              "<pre style=\"white-space:pre;overflow-x:auto;line-height:normal;font-family:Menlo,'DejaVu Sans Mono',consolas,'Courier New',monospace\"><span style=\"font-weight: bold\"> Total params: </span><span style=\"color: #00af00; text-decoration-color: #00af00\">1,515,063</span> (5.78 MB)\n",
              "</pre>\n"
            ]
          },
          "metadata": {}
        },
        {
          "output_type": "display_data",
          "data": {
            "text/plain": [
              "\u001b[1m Trainable params: \u001b[0m\u001b[38;5;34m1,515,063\u001b[0m (5.78 MB)\n"
            ],
            "text/html": [
              "<pre style=\"white-space:pre;overflow-x:auto;line-height:normal;font-family:Menlo,'DejaVu Sans Mono',consolas,'Courier New',monospace\"><span style=\"font-weight: bold\"> Trainable params: </span><span style=\"color: #00af00; text-decoration-color: #00af00\">1,515,063</span> (5.78 MB)\n",
              "</pre>\n"
            ]
          },
          "metadata": {}
        },
        {
          "output_type": "display_data",
          "data": {
            "text/plain": [
              "\u001b[1m Non-trainable params: \u001b[0m\u001b[38;5;34m0\u001b[0m (0.00 B)\n"
            ],
            "text/html": [
              "<pre style=\"white-space:pre;overflow-x:auto;line-height:normal;font-family:Menlo,'DejaVu Sans Mono',consolas,'Courier New',monospace\"><span style=\"font-weight: bold\"> Non-trainable params: </span><span style=\"color: #00af00; text-decoration-color: #00af00\">0</span> (0.00 B)\n",
              "</pre>\n"
            ]
          },
          "metadata": {}
        },
        {
          "output_type": "stream",
          "name": "stdout",
          "text": [
            "Epoch 1/10\n",
            "\u001b[1m125/125\u001b[0m \u001b[32m━━━━━━━━━━━━━━━━━━━━\u001b[0m\u001b[37m\u001b[0m \u001b[1m5s\u001b[0m 26ms/step - accuracy: 0.6540 - loss: 5.2601 - val_accuracy: 0.6788 - val_loss: 2.5302\n",
            "Epoch 2/10\n",
            "\u001b[1m125/125\u001b[0m \u001b[32m━━━━━━━━━━━━━━━━━━━━\u001b[0m\u001b[37m\u001b[0m \u001b[1m3s\u001b[0m 24ms/step - accuracy: 0.6811 - loss: 2.4192 - val_accuracy: 0.6943 - val_loss: 2.3264\n",
            "Epoch 3/10\n",
            "\u001b[1m125/125\u001b[0m \u001b[32m━━━━━━━━━━━━━━━━━━━━\u001b[0m\u001b[37m\u001b[0m \u001b[1m5s\u001b[0m 25ms/step - accuracy: 0.6991 - loss: 2.2435 - val_accuracy: 0.7051 - val_loss: 2.2494\n",
            "Epoch 4/10\n",
            "\u001b[1m125/125\u001b[0m \u001b[32m━━━━━━━━━━━━━━━━━━━━\u001b[0m\u001b[37m\u001b[0m \u001b[1m5s\u001b[0m 25ms/step - accuracy: 0.7052 - loss: 2.1737 - val_accuracy: 0.7063 - val_loss: 2.2102\n",
            "Epoch 5/10\n",
            "\u001b[1m125/125\u001b[0m \u001b[32m━━━━━━━━━━━━━━━━━━━━\u001b[0m\u001b[37m\u001b[0m \u001b[1m5s\u001b[0m 23ms/step - accuracy: 0.7085 - loss: 2.1072 - val_accuracy: 0.7078 - val_loss: 2.1790\n",
            "Epoch 6/10\n",
            "\u001b[1m125/125\u001b[0m \u001b[32m━━━━━━━━━━━━━━━━━━━━\u001b[0m\u001b[37m\u001b[0m \u001b[1m5s\u001b[0m 24ms/step - accuracy: 0.7092 - loss: 2.0656 - val_accuracy: 0.7076 - val_loss: 2.1600\n",
            "Epoch 7/10\n",
            "\u001b[1m125/125\u001b[0m \u001b[32m━━━━━━━━━━━━━━━━━━━━\u001b[0m\u001b[37m\u001b[0m \u001b[1m5s\u001b[0m 24ms/step - accuracy: 0.7103 - loss: 2.0264 - val_accuracy: 0.7087 - val_loss: 2.1396\n",
            "Epoch 8/10\n",
            "\u001b[1m125/125\u001b[0m \u001b[32m━━━━━━━━━━━━━━━━━━━━\u001b[0m\u001b[37m\u001b[0m \u001b[1m5s\u001b[0m 25ms/step - accuracy: 0.7095 - loss: 2.0069 - val_accuracy: 0.7098 - val_loss: 2.1264\n",
            "Epoch 9/10\n",
            "\u001b[1m125/125\u001b[0m \u001b[32m━━━━━━━━━━━━━━━━━━━━\u001b[0m\u001b[37m\u001b[0m \u001b[1m5s\u001b[0m 26ms/step - accuracy: 0.7158 - loss: 1.9488 - val_accuracy: 0.7115 - val_loss: 2.1099\n",
            "Epoch 10/10\n",
            "\u001b[1m125/125\u001b[0m \u001b[32m━━━━━━━━━━━━━━━━━━━━\u001b[0m\u001b[37m\u001b[0m \u001b[1m3s\u001b[0m 24ms/step - accuracy: 0.7182 - loss: 1.9152 - val_accuracy: 0.7118 - val_loss: 2.1038\n",
            "Training Time: 0.78 minutes\n",
            "\u001b[1m32/32\u001b[0m \u001b[32m━━━━━━━━━━━━━━━━━━━━\u001b[0m\u001b[37m\u001b[0m \u001b[1m1s\u001b[0m 32ms/step\n",
            "BLEU Score: 0.0314\n",
            "ROUGE-1: 0.2129\n",
            "ROUGE-L: 0.1977\n",
            "METEOR Score: 0.1160\n"
          ]
        },
        {
          "output_type": "display_data",
          "data": {
            "text/plain": [
              "<Figure size 1200x400 with 2 Axes>"
            ],
            "image/png": "[encoded data removed]"
          },
          "metadata": {}
        }
      ]
    },
    {
      "cell_type": "code",
      "source": [
        "# Step 7: Show example paraphrases\n",
        "num_examples = 10  # You can change this to show more or fewer examples\n",
        "\n",
        "print(\"\\n--- Example Paraphrases ---\")\n",
        "for i in range(num_examples):\n",
        "    print(f\"\\nExample {i+1}:\")\n",
        "    print(f\"Source     : {val_src[i]}\")\n",
        "    print(f\"Reference  : {decoded_refs[i]}\")\n",
        "    print(f\"Prediction : {decoded_preds[i]}\")\n"
      ],
      "metadata": {
        "id": "W8Bi17jHWmQA",
        "colab": {
          "base_uri": "https://localhost:8080/"
        },
        "outputId": "1dc45275-0641-46e3-96ce-76452f847e60"
      },
      "execution_count": null,
      "outputs": [
        {
          "output_type": "stream",
          "name": "stdout",
          "text": [
            "\n",
            "--- Example Paraphrases ---\n",
            "\n",
            "Example 1:\n",
            "Source     : How can we acquire a positive morality?\n",
            "Reference  : in what ways can we cultivate a moral compass that is positive?\n",
            "Prediction : what are the the to to to in\n",
            "\n",
            "Example 2:\n",
            "Source     : What are scraping techniques?\n",
            "Reference  : can you explain the concept of scraping techniques?\n",
            "Prediction : what are the the of\n",
            "\n",
            "Example 3:\n",
            "Source     : How do I register institute providing training in various programming languages for vocational courses as it will exempt it from the service tax?\n",
            "Reference  : what are the requirements for an institute that provides training in various programming languages for vocational courses to register and be exempt from service tax?\n",
            "Prediction : what are the the to to to in in in to in in\n",
            "\n",
            "Example 4:\n",
            "Source     : How headphones work as an Antenna to play FM radio channels on Mobile phones? Why mobile companies doesn't install the same inbuilt Antenna on phones to be able to play FM without the headphones?\n",
            "Reference  : what is the mechanism behind using headphones as an antenna to access fm radio channels on mobile phones? why don't mobile manufacturers incorporate an inbuilt antenna to enable fm playback without headphones?\n",
            "Prediction : what are the the to to to to and the the in in the in in and\n",
            "\n",
            "Example 5:\n",
            "Source     : What are good websites for escorts?\n",
            "Reference  : which websites are recommended for finding escorts?\n",
            "Prediction : what are the the to to of\n",
            "\n",
            "Example 6:\n",
            "Source     : What's causing someone to be jealous?\n",
            "Reference  : what is the source of someone's envy?\n",
            "Prediction : what are the the to of\n",
            "\n",
            "Example 7:\n",
            "Source     : Did you find the ending of the novel \"1984\" depressing?\n",
            "Reference  : did the final chapter of \"1984\" leave you feeling gloomy?\n",
            "Prediction : is is the the to the the the\n",
            "\n",
            "Example 8:\n",
            "Source     : Which country is best for higher education and work?\n",
            "Reference  : which country provides the most favorable conditions for higher education and professional growth?\n",
            "Prediction : what is the the the to to to to in\n",
            "\n",
            "Example 9:\n",
            "Source     : Why are police lights red and blue?\n",
            "Reference  : why are police cars equipped with red and blue flashing lights?\n",
            "Prediction : what are the the to to to of of\n",
            "\n",
            "Example 10:\n",
            "Source     : How will Indian GDP be affected from banning 500 and 1000 rupees notes?\n",
            "Reference  : what impact will the ban on 500 and 1000 rupee notes have on india's gdp?\n",
            "Prediction : what are the the to to in and and and and and in\n"
          ]
        }
      ]
    },
    {
      "cell_type": "code",
      "execution_count": null,
      "metadata": {
        "id": "R2_FWmu4G5ur",
        "colab": {
          "base_uri": "https://localhost:8080/"
        },
        "outputId": "c3c31306-41ad-40c4-a52f-08414133a5cf"
      },
      "outputs": [
        {
          "output_type": "stream",
          "name": "stdout",
          "text": [
            "Requirement already satisfied: numpy in /usr/local/lib/python3.11/dist-packages (2.0.2)\n",
            "Requirement already satisfied: pandas in /usr/local/lib/python3.11/dist-packages (2.2.2)\n",
            "Requirement already satisfied: matplotlib in /usr/local/lib/python3.11/dist-packages (3.10.0)\n",
            "Requirement already satisfied: tensorflow in /usr/local/lib/python3.11/dist-packages (2.18.0)\n",
            "Requirement already satisfied: scikit-learn in /usr/local/lib/python3.11/dist-packages (1.6.1)\n",
            "Requirement already satisfied: nltk in /usr/local/lib/python3.11/dist-packages (3.9.1)\n",
            "Requirement already satisfied: rouge-score in /usr/local/lib/python3.11/dist-packages (0.1.2)\n",
            "Requirement already satisfied: python-dateutil>=2.8.2 in /usr/local/lib/python3.11/dist-packages (from pandas) (2.9.0.post0)\n",
            "Requirement already satisfied: pytz>=2020.1 in /usr/local/lib/python3.11/dist-packages (from pandas) (2025.2)\n",
            "Requirement already satisfied: tzdata>=2022.7 in /usr/local/lib/python3.11/dist-packages (from pandas) (2025.2)\n",
            "Requirement already satisfied: contourpy>=1.0.1 in /usr/local/lib/python3.11/dist-packages (from matplotlib) (1.3.2)\n",
            "Requirement already satisfied: cycler>=0.10 in /usr/local/lib/python3.11/dist-packages (from matplotlib) (0.12.1)\n",
            "Requirement already satisfied: fonttools>=4.22.0 in /usr/local/lib/python3.11/dist-packages (from matplotlib) (4.57.0)\n",
            "Requirement already satisfied: kiwisolver>=1.3.1 in /usr/local/lib/python3.11/dist-packages (from matplotlib) (1.4.8)\n",
            "Requirement already satisfied: packaging>=20.0 in /usr/local/lib/python3.11/dist-packages (from matplotlib) (24.2)\n",
            "Requirement already satisfied: pillow>=8 in /usr/local/lib/python3.11/dist-packages (from matplotlib) (11.2.1)\n",
            "Requirement already satisfied: pyparsing>=2.3.1 in /usr/local/lib/python3.11/dist-packages (from matplotlib) (3.2.3)\n",
            "Requirement already satisfied: absl-py>=1.0.0 in /usr/local/lib/python3.11/dist-packages (from tensorflow) (1.4.0)\n",
            "Requirement already satisfied: astunparse>=1.6.0 in /usr/local/lib/python3.11/dist-packages (from tensorflow) (1.6.3)\n",
            "Requirement already satisfied: flatbuffers>=24.3.25 in /usr/local/lib/python3.11/dist-packages (from tensorflow) (25.2.10)\n",
            "Requirement already satisfied: gast!=0.5.0,!=0.5.1,!=0.5.2,>=0.2.1 in /usr/local/lib/python3.11/dist-packages (from tensorflow) (0.6.0)\n",
            "Requirement already satisfied: google-pasta>=0.1.1 in /usr/local/lib/python3.11/dist-packages (from tensorflow) (0.2.0)\n",
            "Requirement already satisfied: libclang>=13.0.0 in /usr/local/lib/python3.11/dist-packages (from tensorflow) (18.1.1)\n",
            "Requirement already satisfied: opt-einsum>=2.3.2 in /usr/local/lib/python3.11/dist-packages (from tensorflow) (3.4.0)\n",
            "Requirement already satisfied: protobuf!=4.21.0,!=4.21.1,!=4.21.2,!=4.21.3,!=4.21.4,!=4.21.5,<6.0.0dev,>=3.20.3 in /usr/local/lib/python3.11/dist-packages (from tensorflow) (5.29.4)\n",
            "Requirement already satisfied: requests<3,>=2.21.0 in /usr/local/lib/python3.11/dist-packages (from tensorflow) (2.32.3)\n",
            "Requirement already satisfied: setuptools in /usr/local/lib/python3.11/dist-packages (from tensorflow) (75.2.0)\n",
            "Requirement already satisfied: six>=1.12.0 in /usr/local/lib/python3.11/dist-packages (from tensorflow) (1.17.0)\n",
            "Requirement already satisfied: termcolor>=1.1.0 in /usr/local/lib/python3.11/dist-packages (from tensorflow) (3.1.0)\n",
            "Requirement already satisfied: typing-extensions>=3.6.6 in /usr/local/lib/python3.11/dist-packages (from tensorflow) (4.13.2)\n",
            "Requirement already satisfied: wrapt>=1.11.0 in /usr/local/lib/python3.11/dist-packages (from tensorflow) (1.17.2)\n",
            "Requirement already satisfied: grpcio<2.0,>=1.24.3 in /usr/local/lib/python3.11/dist-packages (from tensorflow) (1.71.0)\n",
            "Requirement already satisfied: tensorboard<2.19,>=2.18 in /usr/local/lib/python3.11/dist-packages (from tensorflow) (2.18.0)\n",
            "Requirement already satisfied: keras>=3.5.0 in /usr/local/lib/python3.11/dist-packages (from tensorflow) (3.8.0)\n",
            "Requirement already satisfied: h5py>=3.11.0 in /usr/local/lib/python3.11/dist-packages (from tensorflow) (3.13.0)\n",
            "Requirement already satisfied: ml-dtypes<0.5.0,>=0.4.0 in /usr/local/lib/python3.11/dist-packages (from tensorflow) (0.4.1)\n",
            "Requirement already satisfied: tensorflow-io-gcs-filesystem>=0.23.1 in /usr/local/lib/python3.11/dist-packages (from tensorflow) (0.37.1)\n",
            "Requirement already satisfied: scipy>=1.6.0 in /usr/local/lib/python3.11/dist-packages (from scikit-learn) (1.15.2)\n",
            "Requirement already satisfied: joblib>=1.2.0 in /usr/local/lib/python3.11/dist-packages (from scikit-learn) (1.4.2)\n",
            "Requirement already satisfied: threadpoolctl>=3.1.0 in /usr/local/lib/python3.11/dist-packages (from scikit-learn) (3.6.0)\n",
            "Requirement already satisfied: click in /usr/local/lib/python3.11/dist-packages (from nltk) (8.1.8)\n",
            "Requirement already satisfied: regex>=2021.8.3 in /usr/local/lib/python3.11/dist-packages (from nltk) (2024.11.6)\n",
            "Requirement already satisfied: tqdm in /usr/local/lib/python3.11/dist-packages (from nltk) (4.67.1)\n",
            "Requirement already satisfied: wheel<1.0,>=0.23.0 in /usr/local/lib/python3.11/dist-packages (from astunparse>=1.6.0->tensorflow) (0.45.1)\n",
            "Requirement already satisfied: rich in /usr/local/lib/python3.11/dist-packages (from keras>=3.5.0->tensorflow) (13.9.4)\n",
            "Requirement already satisfied: namex in /usr/local/lib/python3.11/dist-packages (from keras>=3.5.0->tensorflow) (0.0.9)\n",
            "Requirement already satisfied: optree in /usr/local/lib/python3.11/dist-packages (from keras>=3.5.0->tensorflow) (0.15.0)\n",
            "Requirement already satisfied: charset-normalizer<4,>=2 in /usr/local/lib/python3.11/dist-packages (from requests<3,>=2.21.0->tensorflow) (3.4.1)\n",
            "Requirement already satisfied: idna<4,>=2.5 in /usr/local/lib/python3.11/dist-packages (from requests<3,>=2.21.0->tensorflow) (3.10)\n",
            "Requirement already satisfied: urllib3<3,>=1.21.1 in /usr/local/lib/python3.11/dist-packages (from requests<3,>=2.21.0->tensorflow) (2.4.0)\n",
            "Requirement already satisfied: certifi>=2017.4.17 in /usr/local/lib/python3.11/dist-packages (from requests<3,>=2.21.0->tensorflow) (2025.4.26)\n",
            "Requirement already satisfied: markdown>=2.6.8 in /usr/local/lib/python3.11/dist-packages (from tensorboard<2.19,>=2.18->tensorflow) (3.8)\n",
            "Requirement already satisfied: tensorboard-data-server<0.8.0,>=0.7.0 in /usr/local/lib/python3.11/dist-packages (from tensorboard<2.19,>=2.18->tensorflow) (0.7.2)\n",
            "Requirement already satisfied: werkzeug>=1.0.1 in /usr/local/lib/python3.11/dist-packages (from tensorboard<2.19,>=2.18->tensorflow) (3.1.3)\n",
            "Requirement already satisfied: MarkupSafe>=2.1.1 in /usr/local/lib/python3.11/dist-packages (from werkzeug>=1.0.1->tensorboard<2.19,>=2.18->tensorflow) (3.0.2)\n",
            "Requirement already satisfied: markdown-it-py>=2.2.0 in /usr/local/lib/python3.11/dist-packages (from rich->keras>=3.5.0->tensorflow) (3.0.0)\n",
            "Requirement already satisfied: pygments<3.0.0,>=2.13.0 in /usr/local/lib/python3.11/dist-packages (from rich->keras>=3.5.0->tensorflow) (2.19.1)\n",
            "Requirement already satisfied: mdurl~=0.1 in /usr/local/lib/python3.11/dist-packages (from markdown-it-py>=2.2.0->rich->keras>=3.5.0->tensorflow) (0.1.2)\n"
          ]
        }
      ],
      "source": [
        "pip install numpy pandas matplotlib tensorflow scikit-learn nltk rouge-score\n"
      ]
    },
    {
      "cell_type": "markdown",
      "source": [
        " ### **Evaluation metrics**"
      ],
      "metadata": {
        "id": "AOyhU3IP9ZFN"
      }
    },
    {
      "cell_type": "code",
      "source": [
        "import matplotlib.pyplot as plt\n",
        "import numpy as np\n",
        "\n",
        "# Model names\n",
        "models = ['No Attention', 'With Attention', 'Self-Attention']\n",
        "\n",
        "# Metric values for each model\n",
        "bleu_scores = [0.0214, 0.0356, 0.0377]\n",
        "rouge_scores = [0.1493, 0.1989, 0.2017]\n",
        "meteor_scores = [0.1072, 0.1567, 0.1212]\n",
        "\n",
        "x = np.arange(len(models))  # Label locations\n",
        "width = 0.25  # Width of the bars\n",
        "\n",
        "fig, ax = plt.subplots(figsize=(10, 6))\n",
        "bar1 = ax.bar(x - width, bleu_scores, width, label='BLEU', color='#9E77B0')     # purple\n",
        "bar2 = ax.bar(x, rouge_scores, width, label='ROUGE-L', color='#E45756')         # red\n",
        "bar3 = ax.bar(x + width, meteor_scores, width, label='METEOR', color='#FFBE7D') # gold/amber\n",
        "\n",
        "\n",
        "# Add text labels and formatting\n",
        "ax.set_xlabel('Model Type')\n",
        "ax.set_ylabel('Score')\n",
        "ax.set_title('Comparison of Evaluation Metrics')\n",
        "ax.set_xticks(x)\n",
        "ax.set_xticklabels(models)\n",
        "ax.legend()\n",
        "bar1 = ax.bar(x - width, bleu_scores, width, label='BLEU', color='#9E77B0')     # purple\n",
        "bar2 = ax.bar(x, rouge_scores, width, label='ROUGE-L', color='#E45756')         # red\n",
        "bar3 = ax.bar(x + width, meteor_scores, width, label='METEOR', color='#FFBE7D') # gold/amber\n",
        "\n",
        "\n",
        "plt.tight_layout()\n",
        "plt.show()\n"
      ],
      "metadata": {
        "colab": {
          "base_uri": "https://localhost:8080/",
          "height": 607
        },
        "id": "T-P7lbNujw8D",
        "outputId": "63bd0901-23ac-4ea3-8567-3a9fbd420667"
      },
      "execution_count": null,
      "outputs": [
        {
          "output_type": "display_data",
          "data": {
            "text/plain": [
              "<Figure size 1000x600 with 1 Axes>"
            ],
            "image/png": "[encoded data removed]"
          },
          "metadata": {}
        }
      ]
    },
    {
      "cell_type": "code",
      "source": [
        "import pandas as pd\n",
        "\n",
        "data = {\n",
        "    'Model': ['No Attention', 'With Attention', 'Self-Attention'],\n",
        "    'BLEU': [0.0214, 0.0356, 0.0377],\n",
        "    'ROUGE-L': [0.1493, 0.1989, 0.2017],\n",
        "    'METEOR': [0.1072, 0.1567, 0.1212],\n",
        "}\n",
        "\n",
        "df = pd.DataFrame(data)\n",
        "print(df.to_string(index=False))\n"
      ],
      "metadata": {
        "id": "cJP8TfC6j3hZ",
        "outputId": "a34691c0-3fed-46b2-99b3-70fbcbd0a221",
        "colab": {
          "base_uri": "https://localhost:8080/"
        }
      },
      "execution_count": null,
      "outputs": [
        {
          "output_type": "stream",
          "name": "stdout",
          "text": [
            "         Model   BLEU  ROUGE-L  METEOR\n",
            "  No Attention 0.0214   0.1493  0.1072\n",
            "With Attention 0.0356   0.1989  0.1567\n",
            "Self-Attention 0.0377   0.2017  0.1212\n"
          ]
        }
      ]
    }
  ],
  "metadata": {
    "accelerator": "GPU",
    "colab": {
      "gpuType": "T4",
      "provenance": []
    },
    "kernelspec": {
      "display_name": "Python 3",
      "name": "python3"
    },
    "language_info": {
      "name": "python"
    }
  },
  "nbformat": 4,
  "nbformat_minor": 0
}